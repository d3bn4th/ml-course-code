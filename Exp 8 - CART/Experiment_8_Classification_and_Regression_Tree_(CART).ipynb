{
  "cells": [
    {
      "cell_type": "markdown",
      "metadata": {
        "id": "p7aaZI3jGv92"
      },
      "source": [
        "# ML Experiment 8: Classification and Regression Tree (CART)\n",
        "**Aim : Implement CART learning algorithms to perform categorization.**"
      ]
    },
    {
      "cell_type": "code",
      "execution_count": 1,
      "metadata": {
        "colab": {
          "base_uri": "https://localhost:8080/"
        },
        "id": "vQzzWmGnFfg7",
        "outputId": "4f92d89c-8801-4d0d-8cd8-524206917746"
      },
      "outputs": [
        {
          "name": "stdout",
          "output_type": "stream",
          "text": [
            "Downloading from https://www.kaggle.com/api/v1/datasets/download/uciml/pima-indians-diabetes-database?dataset_version_number=1...\n"
          ]
        },
        {
          "name": "stderr",
          "output_type": "stream",
          "text": [
            "100%|██████████| 8.91k/8.91k [00:00<00:00, 4.12MB/s]"
          ]
        },
        {
          "name": "stdout",
          "output_type": "stream",
          "text": [
            "Extracting files...\n",
            "Data source import complete.\n"
          ]
        },
        {
          "name": "stderr",
          "output_type": "stream",
          "text": [
            "\n"
          ]
        }
      ],
      "source": [
        "import kagglehub\n",
        "pima_indians_diabetes_database_path = kagglehub.dataset_download('uciml/pima-indians-diabetes-database')\n",
        "\n",
        "print('Data source import complete.')\n"
      ]
    },
    {
      "cell_type": "markdown",
      "metadata": {
        "id": "BhSv2nabFfg9"
      },
      "source": [
        "Classification and Regression Trees is a classification method which uses historical data to construct so-called decision trees. Decision trees are then used to classify new data. In order to use CART we need to know number of classes a priori.\n",
        "\n",
        "**CART methodology consists of tree parts:**\n",
        "\n",
        "1. Construction of maximum tree\n",
        "\n",
        "2. Choice of the right tree size\n",
        "\n",
        "3. Classification of new data using constructed tree\n",
        "\n",
        "The aim is to transform the complex structures in the data set into simple decision structures. Heterogeneous data sets are divided into homogeneous subgroups according to a specified target variable."
      ]
    },
    {
      "cell_type": "markdown",
      "metadata": {
        "id": "YiKHWwr1FfhH"
      },
      "source": [
        "# Modeling using CART"
      ]
    },
    {
      "cell_type": "code",
      "execution_count": 2,
      "metadata": {
        "execution": {
          "iopub.execute_input": "2021-10-19T18:44:35.313143Z",
          "iopub.status.busy": "2021-10-19T18:44:35.312141Z",
          "iopub.status.idle": "2021-10-19T18:44:37.138511Z",
          "shell.execute_reply": "2021-10-19T18:44:37.137563Z",
          "shell.execute_reply.started": "2021-10-19T18:44:35.312508Z"
        },
        "id": "D-NR9zMzFfhH",
        "trusted": true
      },
      "outputs": [],
      "source": [
        "import warnings\n",
        "import joblib\n",
        "#import pydotplus\n",
        "import numpy as np\n",
        "import pandas as pd\n",
        "import seaborn as sns\n",
        "from matplotlib import pyplot as plt\n",
        "from sklearn.tree import DecisionTreeClassifier, export_graphviz, export_text\n",
        "from sklearn.metrics import classification_report, roc_auc_score\n",
        "from sklearn.model_selection import train_test_split, GridSearchCV, cross_validate, validation_curve\n",
        "#from skompiler import skompile"
      ]
    },
    {
      "cell_type": "code",
      "execution_count": 3,
      "metadata": {
        "execution": {
          "iopub.execute_input": "2021-10-19T18:44:37.140538Z",
          "iopub.status.busy": "2021-10-19T18:44:37.140258Z",
          "iopub.status.idle": "2021-10-19T18:44:37.16175Z",
          "shell.execute_reply": "2021-10-19T18:44:37.160833Z",
          "shell.execute_reply.started": "2021-10-19T18:44:37.140509Z"
        },
        "id": "7XuZ-vSAFfhH",
        "trusted": true
      },
      "outputs": [],
      "source": [
        "#Reading the dataset\n",
        "df = pd.read_csv(pima_indians_diabetes_database_path + \"/diabetes.csv\")"
      ]
    },
    {
      "cell_type": "code",
      "execution_count": 4,
      "metadata": {
        "colab": {
          "base_uri": "https://localhost:8080/",
          "height": 226
        },
        "execution": {
          "iopub.execute_input": "2021-10-19T18:44:37.163326Z",
          "iopub.status.busy": "2021-10-19T18:44:37.163047Z",
          "iopub.status.idle": "2021-10-19T18:44:37.189866Z",
          "shell.execute_reply": "2021-10-19T18:44:37.189127Z",
          "shell.execute_reply.started": "2021-10-19T18:44:37.163292Z"
        },
        "id": "ZS2twf7hFfhI",
        "outputId": "a413dd76-306d-46ff-80e0-f2793962ca96",
        "trusted": true
      },
      "outputs": [
        {
          "data": {
            "text/html": [
              "<div>\n",
              "<style scoped>\n",
              "    .dataframe tbody tr th:only-of-type {\n",
              "        vertical-align: middle;\n",
              "    }\n",
              "\n",
              "    .dataframe tbody tr th {\n",
              "        vertical-align: top;\n",
              "    }\n",
              "\n",
              "    .dataframe thead th {\n",
              "        text-align: right;\n",
              "    }\n",
              "</style>\n",
              "<table border=\"1\" class=\"dataframe\">\n",
              "  <thead>\n",
              "    <tr style=\"text-align: right;\">\n",
              "      <th></th>\n",
              "      <th>Pregnancies</th>\n",
              "      <th>Glucose</th>\n",
              "      <th>BloodPressure</th>\n",
              "      <th>SkinThickness</th>\n",
              "      <th>Insulin</th>\n",
              "      <th>BMI</th>\n",
              "      <th>DiabetesPedigreeFunction</th>\n",
              "      <th>Age</th>\n",
              "      <th>Outcome</th>\n",
              "    </tr>\n",
              "  </thead>\n",
              "  <tbody>\n",
              "    <tr>\n",
              "      <th>0</th>\n",
              "      <td>6</td>\n",
              "      <td>148</td>\n",
              "      <td>72</td>\n",
              "      <td>35</td>\n",
              "      <td>0</td>\n",
              "      <td>33.6</td>\n",
              "      <td>0.627</td>\n",
              "      <td>50</td>\n",
              "      <td>1</td>\n",
              "    </tr>\n",
              "    <tr>\n",
              "      <th>1</th>\n",
              "      <td>1</td>\n",
              "      <td>85</td>\n",
              "      <td>66</td>\n",
              "      <td>29</td>\n",
              "      <td>0</td>\n",
              "      <td>26.6</td>\n",
              "      <td>0.351</td>\n",
              "      <td>31</td>\n",
              "      <td>0</td>\n",
              "    </tr>\n",
              "    <tr>\n",
              "      <th>2</th>\n",
              "      <td>8</td>\n",
              "      <td>183</td>\n",
              "      <td>64</td>\n",
              "      <td>0</td>\n",
              "      <td>0</td>\n",
              "      <td>23.3</td>\n",
              "      <td>0.672</td>\n",
              "      <td>32</td>\n",
              "      <td>1</td>\n",
              "    </tr>\n",
              "    <tr>\n",
              "      <th>3</th>\n",
              "      <td>1</td>\n",
              "      <td>89</td>\n",
              "      <td>66</td>\n",
              "      <td>23</td>\n",
              "      <td>94</td>\n",
              "      <td>28.1</td>\n",
              "      <td>0.167</td>\n",
              "      <td>21</td>\n",
              "      <td>0</td>\n",
              "    </tr>\n",
              "    <tr>\n",
              "      <th>4</th>\n",
              "      <td>0</td>\n",
              "      <td>137</td>\n",
              "      <td>40</td>\n",
              "      <td>35</td>\n",
              "      <td>168</td>\n",
              "      <td>43.1</td>\n",
              "      <td>2.288</td>\n",
              "      <td>33</td>\n",
              "      <td>1</td>\n",
              "    </tr>\n",
              "  </tbody>\n",
              "</table>\n",
              "</div>"
            ],
            "text/plain": [
              "   Pregnancies  Glucose  BloodPressure  SkinThickness  Insulin   BMI  \\\n",
              "0            6      148             72             35        0  33.6   \n",
              "1            1       85             66             29        0  26.6   \n",
              "2            8      183             64              0        0  23.3   \n",
              "3            1       89             66             23       94  28.1   \n",
              "4            0      137             40             35      168  43.1   \n",
              "\n",
              "   DiabetesPedigreeFunction  Age  Outcome  \n",
              "0                     0.627   50        1  \n",
              "1                     0.351   31        0  \n",
              "2                     0.672   32        1  \n",
              "3                     0.167   21        0  \n",
              "4                     2.288   33        1  "
            ]
          },
          "execution_count": 4,
          "metadata": {},
          "output_type": "execute_result"
        }
      ],
      "source": [
        "# The first 5 observation units of the data set were accessed.\n",
        "df.head()"
      ]
    },
    {
      "cell_type": "code",
      "execution_count": 5,
      "metadata": {
        "execution": {
          "iopub.execute_input": "2021-10-19T18:44:37.191272Z",
          "iopub.status.busy": "2021-10-19T18:44:37.191048Z",
          "iopub.status.idle": "2021-10-19T18:44:37.204888Z",
          "shell.execute_reply": "2021-10-19T18:44:37.203938Z",
          "shell.execute_reply.started": "2021-10-19T18:44:37.191236Z"
        },
        "id": "PqE6DWV4FfhI",
        "trusted": true
      },
      "outputs": [],
      "source": [
        "y = df[\"Outcome\"]\n",
        "X = df.drop([\"Outcome\"], axis=1)"
      ]
    },
    {
      "cell_type": "code",
      "execution_count": 6,
      "metadata": {
        "execution": {
          "iopub.execute_input": "2021-10-19T18:44:37.207827Z",
          "iopub.status.busy": "2021-10-19T18:44:37.20723Z",
          "iopub.status.idle": "2021-10-19T18:44:37.228247Z",
          "shell.execute_reply": "2021-10-19T18:44:37.227234Z",
          "shell.execute_reply.started": "2021-10-19T18:44:37.207786Z"
        },
        "id": "oHsBaAFWFfhI",
        "trusted": true
      },
      "outputs": [],
      "source": [
        "# Model\n",
        "cart_model = DecisionTreeClassifier(random_state=17).fit(X, y)"
      ]
    },
    {
      "cell_type": "code",
      "execution_count": 7,
      "metadata": {
        "execution": {
          "iopub.execute_input": "2021-10-19T18:44:37.230013Z",
          "iopub.status.busy": "2021-10-19T18:44:37.229765Z",
          "iopub.status.idle": "2021-10-19T18:44:37.23649Z",
          "shell.execute_reply": "2021-10-19T18:44:37.235417Z",
          "shell.execute_reply.started": "2021-10-19T18:44:37.229977Z"
        },
        "id": "Igx5C30vFfhJ",
        "trusted": true
      },
      "outputs": [],
      "source": [
        "#y_pred for Confusion Matrix  :\n",
        "y_pred = cart_model.predict(X)"
      ]
    },
    {
      "cell_type": "code",
      "execution_count": 8,
      "metadata": {
        "execution": {
          "iopub.execute_input": "2021-10-19T18:44:37.238033Z",
          "iopub.status.busy": "2021-10-19T18:44:37.237637Z",
          "iopub.status.idle": "2021-10-19T18:44:37.251877Z",
          "shell.execute_reply": "2021-10-19T18:44:37.251119Z",
          "shell.execute_reply.started": "2021-10-19T18:44:37.238001Z"
        },
        "id": "YaI42fUFFfhJ",
        "trusted": true
      },
      "outputs": [],
      "source": [
        "#y_prob for AUC:\n",
        "y_prob = cart_model.predict_proba(X)[:, 1]"
      ]
    },
    {
      "cell_type": "code",
      "execution_count": 9,
      "metadata": {
        "colab": {
          "base_uri": "https://localhost:8080/"
        },
        "execution": {
          "iopub.execute_input": "2021-10-19T18:44:37.253507Z",
          "iopub.status.busy": "2021-10-19T18:44:37.253126Z",
          "iopub.status.idle": "2021-10-19T18:44:37.271201Z",
          "shell.execute_reply": "2021-10-19T18:44:37.270434Z",
          "shell.execute_reply.started": "2021-10-19T18:44:37.253475Z"
        },
        "id": "KKhDoIinFfhJ",
        "outputId": "41c57372-f58b-4fd1-f25d-b0a37668f97e",
        "trusted": true
      },
      "outputs": [
        {
          "name": "stdout",
          "output_type": "stream",
          "text": [
            "              precision    recall  f1-score   support\n",
            "\n",
            "           0       1.00      1.00      1.00       500\n",
            "           1       1.00      1.00      1.00       268\n",
            "\n",
            "    accuracy                           1.00       768\n",
            "   macro avg       1.00      1.00      1.00       768\n",
            "weighted avg       1.00      1.00      1.00       768\n",
            "\n"
          ]
        }
      ],
      "source": [
        "# Confusion matrix\n",
        "print(classification_report(y, y_pred))"
      ]
    },
    {
      "cell_type": "code",
      "execution_count": 10,
      "metadata": {
        "colab": {
          "base_uri": "https://localhost:8080/"
        },
        "execution": {
          "iopub.execute_input": "2021-10-19T18:44:37.272817Z",
          "iopub.status.busy": "2021-10-19T18:44:37.27241Z",
          "iopub.status.idle": "2021-10-19T18:44:37.283443Z",
          "shell.execute_reply": "2021-10-19T18:44:37.282788Z",
          "shell.execute_reply.started": "2021-10-19T18:44:37.272706Z"
        },
        "id": "-VdP8pCdFfhK",
        "outputId": "5b5b2f0c-83c3-4050-f072-b746d0ff6642",
        "trusted": true
      },
      "outputs": [
        {
          "data": {
            "text/plain": [
              "1.0"
            ]
          },
          "execution_count": 10,
          "metadata": {},
          "output_type": "execute_result"
        }
      ],
      "source": [
        "# AUC\n",
        "roc_auc_score(y, y_prob)"
      ]
    },
    {
      "cell_type": "markdown",
      "metadata": {
        "id": "R6XfZIPCFfhK"
      },
      "source": [
        "# Evaluation of Success with the Holdout Method"
      ]
    },
    {
      "cell_type": "code",
      "execution_count": 11,
      "metadata": {
        "execution": {
          "iopub.execute_input": "2021-10-19T18:44:37.28509Z",
          "iopub.status.busy": "2021-10-19T18:44:37.284678Z",
          "iopub.status.idle": "2021-10-19T18:44:37.296499Z",
          "shell.execute_reply": "2021-10-19T18:44:37.295813Z",
          "shell.execute_reply.started": "2021-10-19T18:44:37.285048Z"
        },
        "id": "OWH8bAidFfhK",
        "trusted": true
      },
      "outputs": [],
      "source": [
        "X_train, X_test, y_train, y_test = train_test_split(X, y, test_size=0.30, random_state=85)"
      ]
    },
    {
      "cell_type": "code",
      "execution_count": 12,
      "metadata": {
        "execution": {
          "iopub.execute_input": "2021-10-19T18:44:37.298293Z",
          "iopub.status.busy": "2021-10-19T18:44:37.297895Z",
          "iopub.status.idle": "2021-10-19T18:44:37.308838Z",
          "shell.execute_reply": "2021-10-19T18:44:37.307872Z",
          "shell.execute_reply.started": "2021-10-19T18:44:37.298251Z"
        },
        "id": "EJUdk2F_FfhK",
        "trusted": true
      },
      "outputs": [],
      "source": [
        "cart_model = DecisionTreeClassifier(random_state=17).fit(X_train, y_train)"
      ]
    },
    {
      "cell_type": "code",
      "execution_count": 13,
      "metadata": {
        "colab": {
          "base_uri": "https://localhost:8080/"
        },
        "execution": {
          "iopub.execute_input": "2021-10-19T18:44:37.31096Z",
          "iopub.status.busy": "2021-10-19T18:44:37.310455Z",
          "iopub.status.idle": "2021-10-19T18:44:37.326918Z",
          "shell.execute_reply": "2021-10-19T18:44:37.325785Z",
          "shell.execute_reply.started": "2021-10-19T18:44:37.31092Z"
        },
        "id": "5THNb61LFfhK",
        "outputId": "cd35dbf8-3e20-479f-b590-167321cea3d6",
        "trusted": true
      },
      "outputs": [
        {
          "name": "stdout",
          "output_type": "stream",
          "text": [
            "              precision    recall  f1-score   support\n",
            "\n",
            "           0       1.00      1.00      1.00       349\n",
            "           1       1.00      1.00      1.00       188\n",
            "\n",
            "    accuracy                           1.00       537\n",
            "   macro avg       1.00      1.00      1.00       537\n",
            "weighted avg       1.00      1.00      1.00       537\n",
            "\n"
          ]
        }
      ],
      "source": [
        "# Train Error\n",
        "y_pred = cart_model.predict(X_train)\n",
        "y_prob = cart_model.predict_proba(X_train)[:, 1]\n",
        "print(classification_report(y_train, y_pred))"
      ]
    },
    {
      "cell_type": "code",
      "execution_count": 14,
      "metadata": {
        "colab": {
          "base_uri": "https://localhost:8080/"
        },
        "execution": {
          "iopub.execute_input": "2021-10-19T18:44:37.328959Z",
          "iopub.status.busy": "2021-10-19T18:44:37.328469Z",
          "iopub.status.idle": "2021-10-19T18:44:37.337392Z",
          "shell.execute_reply": "2021-10-19T18:44:37.336751Z",
          "shell.execute_reply.started": "2021-10-19T18:44:37.328917Z"
        },
        "id": "Q_8gYrbSFfhL",
        "outputId": "f17476c9-b64f-4e86-aaaa-505239f32dd9",
        "trusted": true
      },
      "outputs": [
        {
          "data": {
            "text/plain": [
              "1.0"
            ]
          },
          "execution_count": 14,
          "metadata": {},
          "output_type": "execute_result"
        }
      ],
      "source": [
        "roc_auc_score(y_train, y_prob)"
      ]
    },
    {
      "cell_type": "code",
      "execution_count": 15,
      "metadata": {
        "colab": {
          "base_uri": "https://localhost:8080/"
        },
        "execution": {
          "iopub.execute_input": "2021-10-19T18:44:37.342087Z",
          "iopub.status.busy": "2021-10-19T18:44:37.341732Z",
          "iopub.status.idle": "2021-10-19T18:44:37.355786Z",
          "shell.execute_reply": "2021-10-19T18:44:37.354602Z",
          "shell.execute_reply.started": "2021-10-19T18:44:37.342055Z"
        },
        "id": "P_vSayNEFfhM",
        "outputId": "8134af7a-2ace-43ac-b8bc-58a29f1bf7c1",
        "trusted": true
      },
      "outputs": [
        {
          "name": "stdout",
          "output_type": "stream",
          "text": [
            "              precision    recall  f1-score   support\n",
            "\n",
            "           0       0.77      0.76      0.76       151\n",
            "           1       0.56      0.56      0.56        80\n",
            "\n",
            "    accuracy                           0.69       231\n",
            "   macro avg       0.66      0.66      0.66       231\n",
            "weighted avg       0.69      0.69      0.69       231\n",
            "\n"
          ]
        }
      ],
      "source": [
        "# Test Error\n",
        "y_pred = cart_model.predict(X_test)\n",
        "y_prob = cart_model.predict_proba(X_test)[:, 1]\n",
        "print(classification_report(y_test, y_pred))"
      ]
    },
    {
      "cell_type": "code",
      "execution_count": 16,
      "metadata": {
        "colab": {
          "base_uri": "https://localhost:8080/"
        },
        "execution": {
          "iopub.execute_input": "2021-10-19T18:44:37.357672Z",
          "iopub.status.busy": "2021-10-19T18:44:37.35691Z",
          "iopub.status.idle": "2021-10-19T18:44:37.364843Z",
          "shell.execute_reply": "2021-10-19T18:44:37.363969Z",
          "shell.execute_reply.started": "2021-10-19T18:44:37.357633Z"
        },
        "id": "dobs8AT5FfhM",
        "outputId": "ae4dfdad-d666-46b9-b9ac-b6a88ee9a12b",
        "trusted": true
      },
      "outputs": [
        {
          "data": {
            "text/plain": [
              "0.6620447019867549"
            ]
          },
          "execution_count": 16,
          "metadata": {},
          "output_type": "execute_result"
        }
      ],
      "source": [
        "roc_auc_score(y_test, y_prob)"
      ]
    },
    {
      "cell_type": "markdown",
      "metadata": {
        "id": "Jejqm7WJFfhM"
      },
      "source": [
        "# Evaluation of Success with Cross Validation"
      ]
    },
    {
      "cell_type": "code",
      "execution_count": 17,
      "metadata": {
        "execution": {
          "iopub.execute_input": "2021-10-19T18:44:37.366565Z",
          "iopub.status.busy": "2021-10-19T18:44:37.366149Z",
          "iopub.status.idle": "2021-10-19T18:44:37.381789Z",
          "shell.execute_reply": "2021-10-19T18:44:37.380847Z",
          "shell.execute_reply.started": "2021-10-19T18:44:37.366536Z"
        },
        "id": "yEWW7B1FFfhM",
        "trusted": true
      },
      "outputs": [],
      "source": [
        "cart_model = DecisionTreeClassifier(random_state=17).fit(X, y)"
      ]
    },
    {
      "cell_type": "code",
      "execution_count": 18,
      "metadata": {
        "execution": {
          "iopub.execute_input": "2021-10-19T18:44:37.383443Z",
          "iopub.status.busy": "2021-10-19T18:44:37.38303Z",
          "iopub.status.idle": "2021-10-19T18:44:37.503585Z",
          "shell.execute_reply": "2021-10-19T18:44:37.502913Z",
          "shell.execute_reply.started": "2021-10-19T18:44:37.383395Z"
        },
        "id": "jBqO9-84FfhM",
        "trusted": true
      },
      "outputs": [],
      "source": [
        "cv_results = cross_validate(cart_model,\n",
        "                            X, y,\n",
        "                            cv=10,\n",
        "                            scoring=[\"accuracy\", \"f1\", \"roc_auc\"])"
      ]
    },
    {
      "cell_type": "code",
      "execution_count": 19,
      "metadata": {
        "colab": {
          "base_uri": "https://localhost:8080/"
        },
        "execution": {
          "iopub.execute_input": "2021-10-19T18:44:37.505927Z",
          "iopub.status.busy": "2021-10-19T18:44:37.504895Z",
          "iopub.status.idle": "2021-10-19T18:44:37.512568Z",
          "shell.execute_reply": "2021-10-19T18:44:37.511713Z",
          "shell.execute_reply.started": "2021-10-19T18:44:37.505879Z"
        },
        "id": "nFNQLJrSFfhM",
        "outputId": "3dd497fd-f7fe-48ab-f44e-093237a5e0b7",
        "trusted": true
      },
      "outputs": [
        {
          "data": {
            "text/plain": [
              "0.7148496240601504"
            ]
          },
          "execution_count": 19,
          "metadata": {},
          "output_type": "execute_result"
        }
      ],
      "source": [
        "cv_results['test_accuracy'].mean()"
      ]
    },
    {
      "cell_type": "code",
      "execution_count": 20,
      "metadata": {
        "colab": {
          "base_uri": "https://localhost:8080/"
        },
        "execution": {
          "iopub.execute_input": "2021-10-19T18:44:37.514078Z",
          "iopub.status.busy": "2021-10-19T18:44:37.513772Z",
          "iopub.status.idle": "2021-10-19T18:44:37.52643Z",
          "shell.execute_reply": "2021-10-19T18:44:37.525673Z",
          "shell.execute_reply.started": "2021-10-19T18:44:37.514035Z"
        },
        "id": "NumgaVCEFfhM",
        "outputId": "4d5a5f24-a573-4a93-f98b-57f3df8310a7",
        "trusted": true
      },
      "outputs": [
        {
          "data": {
            "text/plain": [
              "0.5780669232692448"
            ]
          },
          "execution_count": 20,
          "metadata": {},
          "output_type": "execute_result"
        }
      ],
      "source": [
        "cv_results['test_f1'].mean()"
      ]
    },
    {
      "cell_type": "code",
      "execution_count": 21,
      "metadata": {
        "colab": {
          "base_uri": "https://localhost:8080/"
        },
        "execution": {
          "iopub.execute_input": "2021-10-19T18:44:37.528199Z",
          "iopub.status.busy": "2021-10-19T18:44:37.527423Z",
          "iopub.status.idle": "2021-10-19T18:44:37.53828Z",
          "shell.execute_reply": "2021-10-19T18:44:37.537703Z",
          "shell.execute_reply.started": "2021-10-19T18:44:37.528158Z"
        },
        "id": "PHNjxB3KFfhM",
        "outputId": "5c083b4c-088f-4e32-a46b-d5050392b3b1",
        "trusted": true
      },
      "outputs": [
        {
          "data": {
            "text/plain": [
              "0.6796239316239316"
            ]
          },
          "execution_count": 21,
          "metadata": {},
          "output_type": "execute_result"
        }
      ],
      "source": [
        "cv_results['test_roc_auc'].mean()"
      ]
    },
    {
      "cell_type": "markdown",
      "metadata": {
        "id": "fbIuihVDFfhO"
      },
      "source": [
        "# Hyperparameter Optimization with GridSearchCV"
      ]
    },
    {
      "cell_type": "code",
      "execution_count": 22,
      "metadata": {
        "colab": {
          "base_uri": "https://localhost:8080/"
        },
        "execution": {
          "iopub.execute_input": "2021-10-19T18:44:37.539886Z",
          "iopub.status.busy": "2021-10-19T18:44:37.539172Z",
          "iopub.status.idle": "2021-10-19T18:44:37.552996Z",
          "shell.execute_reply": "2021-10-19T18:44:37.551967Z",
          "shell.execute_reply.started": "2021-10-19T18:44:37.539841Z"
        },
        "id": "iKB2fNSIFfhO",
        "outputId": "c82d9815-f9df-48c3-c7e7-44291d11d925",
        "trusted": true
      },
      "outputs": [
        {
          "data": {
            "text/plain": [
              "{'ccp_alpha': 0.0,\n",
              " 'class_weight': None,\n",
              " 'criterion': 'gini',\n",
              " 'max_depth': None,\n",
              " 'max_features': None,\n",
              " 'max_leaf_nodes': None,\n",
              " 'min_impurity_decrease': 0.0,\n",
              " 'min_samples_leaf': 1,\n",
              " 'min_samples_split': 2,\n",
              " 'min_weight_fraction_leaf': 0.0,\n",
              " 'monotonic_cst': None,\n",
              " 'random_state': 17,\n",
              " 'splitter': 'best'}"
            ]
          },
          "execution_count": 22,
          "metadata": {},
          "output_type": "execute_result"
        }
      ],
      "source": [
        "cart_model.get_params()"
      ]
    },
    {
      "cell_type": "code",
      "execution_count": 23,
      "metadata": {
        "execution": {
          "iopub.execute_input": "2021-10-19T18:44:37.554828Z",
          "iopub.status.busy": "2021-10-19T18:44:37.554489Z",
          "iopub.status.idle": "2021-10-19T18:44:37.563047Z",
          "shell.execute_reply": "2021-10-19T18:44:37.562431Z",
          "shell.execute_reply.started": "2021-10-19T18:44:37.554783Z"
        },
        "id": "GuWppMKZFfhO",
        "trusted": true
      },
      "outputs": [],
      "source": [
        "# Hyperparameter set to search:\n",
        "cart_params = {'max_depth': range(1, 11),\n",
        "               \"min_samples_split\": range(2, 20)}"
      ]
    },
    {
      "cell_type": "code",
      "execution_count": 24,
      "metadata": {
        "colab": {
          "base_uri": "https://localhost:8080/"
        },
        "execution": {
          "iopub.execute_input": "2021-10-19T18:44:37.56526Z",
          "iopub.status.busy": "2021-10-19T18:44:37.564296Z",
          "iopub.status.idle": "2021-10-19T18:44:43.1099Z",
          "shell.execute_reply": "2021-10-19T18:44:43.109186Z",
          "shell.execute_reply.started": "2021-10-19T18:44:37.565217Z"
        },
        "id": "LoMgQt5XFfhO",
        "outputId": "2d190f61-1e0a-46fe-de7b-319882f0a9e5",
        "trusted": true
      },
      "outputs": [
        {
          "name": "stdout",
          "output_type": "stream",
          "text": [
            "Fitting 5 folds for each of 180 candidates, totalling 900 fits\n"
          ]
        }
      ],
      "source": [
        "# GridSearchCV\n",
        "cart_best_grid = GridSearchCV(cart_model,\n",
        "                              cart_params,\n",
        "                              cv=5,\n",
        "                              n_jobs=-1,\n",
        "                              verbose=True).fit(X, y)"
      ]
    },
    {
      "cell_type": "code",
      "execution_count": 25,
      "metadata": {
        "colab": {
          "base_uri": "https://localhost:8080/"
        },
        "execution": {
          "iopub.execute_input": "2021-10-19T18:44:43.111857Z",
          "iopub.status.busy": "2021-10-19T18:44:43.111467Z",
          "iopub.status.idle": "2021-10-19T18:44:43.117057Z",
          "shell.execute_reply": "2021-10-19T18:44:43.116349Z",
          "shell.execute_reply.started": "2021-10-19T18:44:43.111817Z"
        },
        "id": "tLVEZmUJFfhO",
        "outputId": "a371e1ea-8b78-47ad-9ee9-465a7d5821e7",
        "trusted": true
      },
      "outputs": [
        {
          "data": {
            "text/plain": [
              "{'max_depth': 5, 'min_samples_split': 12}"
            ]
          },
          "execution_count": 25,
          "metadata": {},
          "output_type": "execute_result"
        }
      ],
      "source": [
        "# Best hyper parameter values:\n",
        "cart_best_grid.best_params_"
      ]
    },
    {
      "cell_type": "code",
      "execution_count": 26,
      "metadata": {
        "colab": {
          "base_uri": "https://localhost:8080/"
        },
        "execution": {
          "iopub.execute_input": "2021-10-19T18:44:43.118786Z",
          "iopub.status.busy": "2021-10-19T18:44:43.118486Z",
          "iopub.status.idle": "2021-10-19T18:44:43.137653Z",
          "shell.execute_reply": "2021-10-19T18:44:43.136641Z",
          "shell.execute_reply.started": "2021-10-19T18:44:43.118746Z"
        },
        "id": "0q63U2F9FfhP",
        "outputId": "4dd0e4e1-1d32-4009-d0f0-8d84e4e1c817",
        "trusted": true
      },
      "outputs": [
        {
          "data": {
            "text/plain": [
              "0.7500806383159324"
            ]
          },
          "execution_count": 26,
          "metadata": {},
          "output_type": "execute_result"
        }
      ],
      "source": [
        "# Best score:\n",
        "cart_best_grid.best_score_"
      ]
    },
    {
      "cell_type": "code",
      "execution_count": 27,
      "metadata": {
        "colab": {
          "base_uri": "https://localhost:8080/"
        },
        "execution": {
          "iopub.execute_input": "2021-10-19T18:44:43.141418Z",
          "iopub.status.busy": "2021-10-19T18:44:43.140651Z",
          "iopub.status.idle": "2021-10-19T18:44:43.155014Z",
          "shell.execute_reply": "2021-10-19T18:44:43.154079Z",
          "shell.execute_reply.started": "2021-10-19T18:44:43.141377Z"
        },
        "id": "G1uF9YHUFfhP",
        "outputId": "8675105d-eed1-4f33-b9d1-5d97d63a0219",
        "trusted": true
      },
      "outputs": [
        {
          "name": "stdout",
          "output_type": "stream",
          "text": [
            "     Pregnancies  Glucose  BloodPressure  SkinThickness  Insulin   BMI  \\\n",
            "195            5      158             84             41      210  39.4   \n",
            "\n",
            "     DiabetesPedigreeFunction  Age  \n",
            "195                     0.395   29  \n"
          ]
        }
      ],
      "source": [
        "random = X.sample(1, random_state=45)\n",
        "print(random)"
      ]
    },
    {
      "cell_type": "code",
      "execution_count": 28,
      "metadata": {
        "colab": {
          "base_uri": "https://localhost:8080/"
        },
        "execution": {
          "iopub.execute_input": "2021-10-19T18:44:43.15747Z",
          "iopub.status.busy": "2021-10-19T18:44:43.156887Z",
          "iopub.status.idle": "2021-10-19T18:44:43.166106Z",
          "shell.execute_reply": "2021-10-19T18:44:43.165427Z",
          "shell.execute_reply.started": "2021-10-19T18:44:43.157425Z"
        },
        "id": "g3A5eLUQFfhP",
        "outputId": "5a712439-89ae-421e-84a6-d8581997fb45",
        "trusted": true
      },
      "outputs": [
        {
          "data": {
            "text/plain": [
              "array([1])"
            ]
          },
          "execution_count": 28,
          "metadata": {},
          "output_type": "execute_result"
        }
      ],
      "source": [
        "cart_best_grid.predict(random)"
      ]
    },
    {
      "cell_type": "markdown",
      "metadata": {
        "id": "hx9cdbDBFfhP"
      },
      "source": [
        "# 5. Final Model"
      ]
    },
    {
      "cell_type": "code",
      "execution_count": 29,
      "metadata": {
        "execution": {
          "iopub.execute_input": "2021-10-19T18:44:43.168237Z",
          "iopub.status.busy": "2021-10-19T18:44:43.167676Z",
          "iopub.status.idle": "2021-10-19T18:44:43.180555Z",
          "shell.execute_reply": "2021-10-19T18:44:43.179635Z",
          "shell.execute_reply.started": "2021-10-19T18:44:43.168192Z"
        },
        "id": "pNmOS7YkFfhQ",
        "trusted": true
      },
      "outputs": [],
      "source": [
        "cart_final = DecisionTreeClassifier(**cart_best_grid.best_params_,\n",
        "                                    random_state=17).fit(X, y)"
      ]
    },
    {
      "cell_type": "code",
      "execution_count": 30,
      "metadata": {
        "colab": {
          "base_uri": "https://localhost:8080/"
        },
        "execution": {
          "iopub.execute_input": "2021-10-19T18:44:43.182828Z",
          "iopub.status.busy": "2021-10-19T18:44:43.182091Z",
          "iopub.status.idle": "2021-10-19T18:44:43.190103Z",
          "shell.execute_reply": "2021-10-19T18:44:43.189173Z",
          "shell.execute_reply.started": "2021-10-19T18:44:43.182781Z"
        },
        "id": "6tl6WflOFfhQ",
        "outputId": "8a889c4b-ba22-4630-ff51-d206dc19e994",
        "trusted": true
      },
      "outputs": [
        {
          "data": {
            "text/plain": [
              "{'ccp_alpha': 0.0,\n",
              " 'class_weight': None,\n",
              " 'criterion': 'gini',\n",
              " 'max_depth': 5,\n",
              " 'max_features': None,\n",
              " 'max_leaf_nodes': None,\n",
              " 'min_impurity_decrease': 0.0,\n",
              " 'min_samples_leaf': 1,\n",
              " 'min_samples_split': 12,\n",
              " 'min_weight_fraction_leaf': 0.0,\n",
              " 'monotonic_cst': None,\n",
              " 'random_state': 17,\n",
              " 'splitter': 'best'}"
            ]
          },
          "execution_count": 30,
          "metadata": {},
          "output_type": "execute_result"
        }
      ],
      "source": [
        "cart_final.get_params()"
      ]
    },
    {
      "cell_type": "code",
      "execution_count": 31,
      "metadata": {
        "execution": {
          "iopub.execute_input": "2021-10-19T18:44:43.191879Z",
          "iopub.status.busy": "2021-10-19T18:44:43.191412Z",
          "iopub.status.idle": "2021-10-19T18:44:43.205011Z",
          "shell.execute_reply": "2021-10-19T18:44:43.204332Z",
          "shell.execute_reply.started": "2021-10-19T18:44:43.191846Z"
        },
        "id": "93xja8qxFfhQ",
        "trusted": true
      },
      "outputs": [],
      "source": [
        "# Another way to assign the best parameters to the model:\n",
        "cart_final = cart_model.set_params(**cart_best_grid.best_params_).fit(X, y)"
      ]
    },
    {
      "cell_type": "code",
      "execution_count": 32,
      "metadata": {
        "execution": {
          "iopub.execute_input": "2021-10-19T18:44:43.206676Z",
          "iopub.status.busy": "2021-10-19T18:44:43.206256Z",
          "iopub.status.idle": "2021-10-19T18:44:43.316593Z",
          "shell.execute_reply": "2021-10-19T18:44:43.315963Z",
          "shell.execute_reply.started": "2021-10-19T18:44:43.206637Z"
        },
        "id": "w6-I73_LFfhQ",
        "trusted": true
      },
      "outputs": [],
      "source": [
        "# CV error of final model:\n",
        "cv_results = cross_validate(cart_final,\n",
        "                            X, y,\n",
        "                            cv=10,\n",
        "                            scoring=[\"accuracy\", \"f1\", \"roc_auc\"])"
      ]
    },
    {
      "cell_type": "code",
      "execution_count": 33,
      "metadata": {
        "colab": {
          "base_uri": "https://localhost:8080/"
        },
        "execution": {
          "iopub.execute_input": "2021-10-19T18:44:43.318286Z",
          "iopub.status.busy": "2021-10-19T18:44:43.317875Z",
          "iopub.status.idle": "2021-10-19T18:44:43.32412Z",
          "shell.execute_reply": "2021-10-19T18:44:43.323574Z",
          "shell.execute_reply.started": "2021-10-19T18:44:43.318255Z"
        },
        "id": "5n5NsJdWFfhQ",
        "outputId": "7eedd8fb-0b25-4d70-89c1-ffb1a44e43e0",
        "trusted": true
      },
      "outputs": [
        {
          "data": {
            "text/plain": [
              "0.7292207792207792"
            ]
          },
          "execution_count": 33,
          "metadata": {},
          "output_type": "execute_result"
        }
      ],
      "source": [
        "cv_results['test_accuracy'].mean()\n"
      ]
    },
    {
      "cell_type": "code",
      "execution_count": 34,
      "metadata": {
        "colab": {
          "base_uri": "https://localhost:8080/"
        },
        "execution": {
          "iopub.execute_input": "2021-10-19T18:44:43.325369Z",
          "iopub.status.busy": "2021-10-19T18:44:43.325061Z",
          "iopub.status.idle": "2021-10-19T18:44:43.340692Z",
          "shell.execute_reply": "2021-10-19T18:44:43.33932Z",
          "shell.execute_reply.started": "2021-10-19T18:44:43.325342Z"
        },
        "id": "xhoscW1XFfhQ",
        "outputId": "9489158f-ed0d-4a15-b117-b6cd10e7e338",
        "trusted": true
      },
      "outputs": [
        {
          "data": {
            "text/plain": [
              "0.5633111151435928"
            ]
          },
          "execution_count": 34,
          "metadata": {},
          "output_type": "execute_result"
        }
      ],
      "source": [
        "cv_results['test_f1'].mean()\n"
      ]
    },
    {
      "cell_type": "code",
      "execution_count": 35,
      "metadata": {
        "colab": {
          "base_uri": "https://localhost:8080/"
        },
        "execution": {
          "iopub.execute_input": "2021-10-19T18:44:43.344823Z",
          "iopub.status.busy": "2021-10-19T18:44:43.344394Z",
          "iopub.status.idle": "2021-10-19T18:44:43.353258Z",
          "shell.execute_reply": "2021-10-19T18:44:43.352442Z",
          "shell.execute_reply.started": "2021-10-19T18:44:43.344786Z"
        },
        "id": "JlEea8rKFfhQ",
        "outputId": "79c2daf5-adba-4a3b-f417-55c9f71f605f",
        "trusted": true
      },
      "outputs": [
        {
          "data": {
            "text/plain": [
              "0.7649672364672366"
            ]
          },
          "execution_count": 35,
          "metadata": {},
          "output_type": "execute_result"
        }
      ],
      "source": [
        "cv_results['test_roc_auc'].mean()\n"
      ]
    },
    {
      "cell_type": "markdown",
      "metadata": {
        "id": "cmdarAJTFfhQ"
      },
      "source": [
        "# 6. Feature Importance"
      ]
    },
    {
      "cell_type": "code",
      "execution_count": 36,
      "metadata": {
        "execution": {
          "iopub.execute_input": "2021-10-19T18:44:43.35522Z",
          "iopub.status.busy": "2021-10-19T18:44:43.354902Z",
          "iopub.status.idle": "2021-10-19T18:44:43.365145Z",
          "shell.execute_reply": "2021-10-19T18:44:43.364286Z",
          "shell.execute_reply.started": "2021-10-19T18:44:43.355178Z"
        },
        "id": "31i4M5s2FfhQ",
        "trusted": true
      },
      "outputs": [],
      "source": [
        "def plot_importance(model, features, num=len(X), save=False):\n",
        "    feature_imp = pd.DataFrame({'Value': model.feature_importances_, 'Feature': features.columns})\n",
        "    plt.figure(figsize=(10, 10))\n",
        "    sns.set(font_scale=1)\n",
        "    sns.barplot(x=\"Value\", y=\"Feature\", data=feature_imp.sort_values(by=\"Value\",\n",
        "                                                                     ascending=False)[0:num])\n",
        "    plt.title('Features')\n",
        "    plt.tight_layout()\n",
        "    plt.show()\n",
        "    if save:\n",
        "        plt.savefig('importances.png')"
      ]
    },
    {
      "cell_type": "code",
      "execution_count": 37,
      "metadata": {
        "colab": {
          "base_uri": "https://localhost:8080/",
          "height": 1000
        },
        "execution": {
          "iopub.execute_input": "2021-10-19T18:44:43.367108Z",
          "iopub.status.busy": "2021-10-19T18:44:43.366652Z",
          "iopub.status.idle": "2021-10-19T18:44:43.791677Z",
          "shell.execute_reply": "2021-10-19T18:44:43.79067Z",
          "shell.execute_reply.started": "2021-10-19T18:44:43.367068Z"
        },
        "id": "o7zDOe4oFfhR",
        "outputId": "50e0b28d-ee4a-41cb-d5ad-5be23ef1e795",
        "trusted": true
      },
      "outputs": [
        {
          "data": {
            "image/png": "[encoded data removed]",
            "text/plain": [
              "<Figure size 1000x1000 with 1 Axes>"
            ]
          },
          "metadata": {},
          "output_type": "display_data"
        }
      ],
      "source": [
        "plot_importance(cart_final, X, 15)"
      ]
    },
    {
      "cell_type": "markdown",
      "metadata": {
        "id": "Afa_GgDrFfhS"
      },
      "source": [
        "# 7. Analyzing Model Complexity with Learning Curves"
      ]
    },
    {
      "cell_type": "code",
      "execution_count": 38,
      "metadata": {
        "execution": {
          "iopub.execute_input": "2021-10-19T18:44:43.793054Z",
          "iopub.status.busy": "2021-10-19T18:44:43.792847Z",
          "iopub.status.idle": "2021-10-19T18:44:44.821068Z",
          "shell.execute_reply": "2021-10-19T18:44:44.820034Z",
          "shell.execute_reply.started": "2021-10-19T18:44:43.793028Z"
        },
        "id": "nQ7u4zPkFfhS",
        "trusted": true
      },
      "outputs": [],
      "source": [
        "train_score, test_score = validation_curve(\n",
        "    cart_final, X=X, y=y,\n",
        "    param_name='max_depth',\n",
        "    param_range=range(1, 11),\n",
        "    scoring=\"roc_auc\",\n",
        "    cv=10)"
      ]
    },
    {
      "cell_type": "code",
      "execution_count": 39,
      "metadata": {
        "execution": {
          "iopub.execute_input": "2021-10-19T18:44:44.822929Z",
          "iopub.status.busy": "2021-10-19T18:44:44.82268Z",
          "iopub.status.idle": "2021-10-19T18:44:44.827485Z",
          "shell.execute_reply": "2021-10-19T18:44:44.826688Z",
          "shell.execute_reply.started": "2021-10-19T18:44:44.822901Z"
        },
        "id": "vJDzjbkOFfhS",
        "trusted": true
      },
      "outputs": [],
      "source": [
        "mean_train_score = np.mean(train_score, axis=1)"
      ]
    },
    {
      "cell_type": "code",
      "execution_count": 40,
      "metadata": {
        "execution": {
          "iopub.execute_input": "2021-10-19T18:44:44.829598Z",
          "iopub.status.busy": "2021-10-19T18:44:44.829094Z",
          "iopub.status.idle": "2021-10-19T18:44:44.84017Z",
          "shell.execute_reply": "2021-10-19T18:44:44.839261Z",
          "shell.execute_reply.started": "2021-10-19T18:44:44.829552Z"
        },
        "id": "GfQ_LMEdFfhS",
        "trusted": true
      },
      "outputs": [],
      "source": [
        "mean_test_score = np.mean(test_score, axis=1)"
      ]
    },
    {
      "cell_type": "code",
      "execution_count": 41,
      "metadata": {
        "colab": {
          "base_uri": "https://localhost:8080/",
          "height": 500
        },
        "execution": {
          "iopub.execute_input": "2021-10-19T18:44:44.842535Z",
          "iopub.status.busy": "2021-10-19T18:44:44.841911Z",
          "iopub.status.idle": "2021-10-19T18:44:45.209268Z",
          "shell.execute_reply": "2021-10-19T18:44:45.208679Z",
          "shell.execute_reply.started": "2021-10-19T18:44:44.842496Z"
        },
        "id": "X3InbwfGFfhS",
        "outputId": "db415dd0-1de0-44f6-9727-1ad10c590d30",
        "trusted": true
      },
      "outputs": [
        {
          "data": {
            "image/png": "[encoded data removed]",
            "text/plain": [
              "<Figure size 640x480 with 1 Axes>"
            ]
          },
          "metadata": {},
          "output_type": "display_data"
        }
      ],
      "source": [
        "plt.plot(range(1, 11), mean_train_score,\n",
        "         label=\"Training Score\", color='b')\n",
        "plt.plot(range(1, 11), mean_test_score,\n",
        "         label=\"Validation Score\", color='g')\n",
        "\n",
        "plt.title(\"Validation Curve for CART\")\n",
        "plt.xlabel(\"Number of max_depth\")\n",
        "plt.ylabel(\"AUC\")\n",
        "plt.tight_layout()\n",
        "plt.legend(loc='best')\n",
        "plt.show()"
      ]
    },
    {
      "cell_type": "markdown",
      "metadata": {
        "id": "b30WwF4qFfhS"
      },
      "source": [
        "# 8. Extracting Decision Rules"
      ]
    },
    {
      "cell_type": "code",
      "execution_count": 42,
      "metadata": {
        "colab": {
          "base_uri": "https://localhost:8080/"
        },
        "execution": {
          "iopub.status.busy": "2021-10-19T18:44:58.832069Z",
          "iopub.status.idle": "2021-10-19T18:44:58.832546Z",
          "shell.execute_reply": "2021-10-19T18:44:58.832313Z",
          "shell.execute_reply.started": "2021-10-19T18:44:58.832287Z"
        },
        "id": "Jqfe-nO8FfhT",
        "outputId": "b6679043-ca1f-43c0-c293-02ac878440b9",
        "trusted": true
      },
      "outputs": [
        {
          "name": "stdout",
          "output_type": "stream",
          "text": [
            "|--- Glucose <= 127.50\n",
            "|   |--- Age <= 28.50\n",
            "|   |   |--- BMI <= 45.40\n",
            "|   |   |   |--- BMI <= 30.95\n",
            "|   |   |   |   |--- Pregnancies <= 7.50\n",
            "|   |   |   |   |   |--- class: 0\n",
            "|   |   |   |   |--- Pregnancies >  7.50\n",
            "|   |   |   |   |   |--- class: 1\n",
            "|   |   |   |--- BMI >  30.95\n",
            "|   |   |   |   |--- DiabetesPedigreeFunction <= 0.50\n",
            "|   |   |   |   |   |--- class: 0\n",
            "|   |   |   |   |--- DiabetesPedigreeFunction >  0.50\n",
            "|   |   |   |   |   |--- class: 0\n",
            "|   |   |--- BMI >  45.40\n",
            "|   |   |   |--- class: 1\n",
            "|   |--- Age >  28.50\n",
            "|   |   |--- BMI <= 26.35\n",
            "|   |   |   |--- BMI <= 9.65\n",
            "|   |   |   |   |--- class: 1\n",
            "|   |   |   |--- BMI >  9.65\n",
            "|   |   |   |   |--- class: 0\n",
            "|   |   |--- BMI >  26.35\n",
            "|   |   |   |--- Glucose <= 99.50\n",
            "|   |   |   |   |--- Glucose <= 28.50\n",
            "|   |   |   |   |   |--- class: 1\n",
            "|   |   |   |   |--- Glucose >  28.50\n",
            "|   |   |   |   |   |--- class: 0\n",
            "|   |   |   |--- Glucose >  99.50\n",
            "|   |   |   |   |--- DiabetesPedigreeFunction <= 0.56\n",
            "|   |   |   |   |   |--- class: 0\n",
            "|   |   |   |   |--- DiabetesPedigreeFunction >  0.56\n",
            "|   |   |   |   |   |--- class: 1\n",
            "|--- Glucose >  127.50\n",
            "|   |--- BMI <= 29.95\n",
            "|   |   |--- Glucose <= 145.50\n",
            "|   |   |   |--- Insulin <= 132.50\n",
            "|   |   |   |   |--- BMI <= 28.15\n",
            "|   |   |   |   |   |--- class: 0\n",
            "|   |   |   |   |--- BMI >  28.15\n",
            "|   |   |   |   |   |--- class: 1\n",
            "|   |   |   |--- Insulin >  132.50\n",
            "|   |   |   |   |--- class: 0\n",
            "|   |   |--- Glucose >  145.50\n",
            "|   |   |   |--- Age <= 25.50\n",
            "|   |   |   |   |--- class: 0\n",
            "|   |   |   |--- Age >  25.50\n",
            "|   |   |   |   |--- Age <= 61.00\n",
            "|   |   |   |   |   |--- class: 1\n",
            "|   |   |   |   |--- Age >  61.00\n",
            "|   |   |   |   |   |--- class: 0\n",
            "|   |--- BMI >  29.95\n",
            "|   |   |--- Glucose <= 157.50\n",
            "|   |   |   |--- Age <= 30.50\n",
            "|   |   |   |   |--- BloodPressure <= 61.00\n",
            "|   |   |   |   |   |--- class: 1\n",
            "|   |   |   |   |--- BloodPressure >  61.00\n",
            "|   |   |   |   |   |--- class: 0\n",
            "|   |   |   |--- Age >  30.50\n",
            "|   |   |   |   |--- DiabetesPedigreeFunction <= 0.43\n",
            "|   |   |   |   |   |--- class: 1\n",
            "|   |   |   |   |--- DiabetesPedigreeFunction >  0.43\n",
            "|   |   |   |   |   |--- class: 1\n",
            "|   |   |--- Glucose >  157.50\n",
            "|   |   |   |--- Insulin <= 629.50\n",
            "|   |   |   |   |--- DiabetesPedigreeFunction <= 0.30\n",
            "|   |   |   |   |   |--- class: 1\n",
            "|   |   |   |   |--- DiabetesPedigreeFunction >  0.30\n",
            "|   |   |   |   |   |--- class: 1\n",
            "|   |   |   |--- Insulin >  629.50\n",
            "|   |   |   |   |--- class: 0\n",
            "\n"
          ]
        }
      ],
      "source": [
        "tree_rules = export_text(cart_model, feature_names=list(X.columns))\n",
        "print(tree_rules)"
      ]
    }
  ],
  "metadata": {
    "colab": {
      "provenance": []
    },
    "kernelspec": {
      "display_name": "base",
      "language": "python",
      "name": "python3"
    },
    "language_info": {
      "codemirror_mode": {
        "name": "ipython",
        "version": 3
      },
      "file_extension": ".py",
      "mimetype": "text/x-python",
      "name": "python",
      "nbconvert_exporter": "python",
      "pygments_lexer": "ipython3",
      "version": "3.12.4"
    }
  },
  "nbformat": 4,
  "nbformat_minor": 0
}
