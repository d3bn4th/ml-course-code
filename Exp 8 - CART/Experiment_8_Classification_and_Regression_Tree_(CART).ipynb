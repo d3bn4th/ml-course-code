{
  "metadata": {
    "kernelspec": {
      "language": "python",
      "display_name": "Python 3",
      "name": "python3"
    },
    "language_info": {
      "pygments_lexer": "ipython3",
      "nbconvert_exporter": "python",
      "version": "3.6.4",
      "file_extension": ".py",
      "codemirror_mode": {
        "name": "ipython",
        "version": 3
      },
      "name": "python",
      "mimetype": "text/x-python"
    },
    "colab": {
      "provenance": []
    }
  },
  "nbformat_minor": 0,
  "nbformat": 4,
  "cells": [
    {
      "cell_type": "markdown",
      "source": [
        "# ML Experiment 8: Classification and Regression Tree (CART)\n",
        "**Aim : Implement CART learning algorithms to perform categorization.**"
      ],
      "metadata": {
        "id": "p7aaZI3jGv92"
      }
    },
    {
      "source": [
        "import kagglehub\n",
        "pima_indians_diabetes_database_path = kagglehub.dataset_download('uciml/pima-indians-diabetes-database')\n",
        "\n",
        "print('Data source import complete.')\n"
      ],
      "metadata": {
        "id": "vQzzWmGnFfg7",
        "colab": {
          "base_uri": "https://localhost:8080/"
        },
        "outputId": "4f92d89c-8801-4d0d-8cd8-524206917746"
      },
      "cell_type": "code",
      "outputs": [
        {
          "output_type": "stream",
          "name": "stdout",
          "text": [
            "Downloading from https://www.kaggle.com/api/v1/datasets/download/uciml/pima-indians-diabetes-database?dataset_version_number=1...\n"
          ]
        },
        {
          "output_type": "stream",
          "name": "stderr",
          "text": [
            "100%|██████████| 8.91k/8.91k [00:00<00:00, 4.96MB/s]"
          ]
        },
        {
          "output_type": "stream",
          "name": "stdout",
          "text": [
            "Extracting files...\n",
            "Data source import complete.\n"
          ]
        },
        {
          "output_type": "stream",
          "name": "stderr",
          "text": [
            "\n"
          ]
        }
      ],
      "execution_count": 3
    },
    {
      "cell_type": "markdown",
      "source": [
        "Classification and Regression Trees is a classification method which uses historical data to construct so-called decision trees. Decision trees are then used to classify new data. In order to use CART we need to know number of classes a priori.\n",
        "\n",
        "**CART methodology consists of tree parts:**\n",
        "\n",
        "1. Construction of maximum tree\n",
        "\n",
        "2. Choice of the right tree size\n",
        "\n",
        "3. Classification of new data using constructed tree\n",
        "\n",
        "The aim is to transform the complex structures in the data set into simple decision structures. Heterogeneous data sets are divided into homogeneous subgroups according to a specified target variable."
      ],
      "metadata": {
        "id": "BhSv2nabFfg9"
      }
    },
    {
      "cell_type": "markdown",
      "source": [
        "# Modeling using CART"
      ],
      "metadata": {
        "id": "YiKHWwr1FfhH"
      }
    },
    {
      "cell_type": "code",
      "source": [
        "import warnings\n",
        "import joblib\n",
        "#import pydotplus\n",
        "import numpy as np\n",
        "import pandas as pd\n",
        "import seaborn as sns\n",
        "from matplotlib import pyplot as plt\n",
        "from sklearn.tree import DecisionTreeClassifier, export_graphviz, export_text\n",
        "from sklearn.metrics import classification_report, roc_auc_score\n",
        "from sklearn.model_selection import train_test_split, GridSearchCV, cross_validate, validation_curve\n",
        "#from skompiler import skompile"
      ],
      "metadata": {
        "execution": {
          "iopub.status.busy": "2021-10-19T18:44:35.312141Z",
          "iopub.execute_input": "2021-10-19T18:44:35.313143Z",
          "iopub.status.idle": "2021-10-19T18:44:37.138511Z",
          "shell.execute_reply.started": "2021-10-19T18:44:35.312508Z",
          "shell.execute_reply": "2021-10-19T18:44:37.137563Z"
        },
        "trusted": true,
        "id": "D-NR9zMzFfhH"
      },
      "execution_count": 5,
      "outputs": []
    },
    {
      "cell_type": "code",
      "source": [
        "#Reading the dataset\n",
        "df = pd.read_csv(pima_indians_diabetes_database_path + \"/diabetes.csv\")"
      ],
      "metadata": {
        "execution": {
          "iopub.status.busy": "2021-10-19T18:44:37.140258Z",
          "iopub.execute_input": "2021-10-19T18:44:37.140538Z",
          "iopub.status.idle": "2021-10-19T18:44:37.16175Z",
          "shell.execute_reply.started": "2021-10-19T18:44:37.140509Z",
          "shell.execute_reply": "2021-10-19T18:44:37.160833Z"
        },
        "trusted": true,
        "id": "7XuZ-vSAFfhH"
      },
      "execution_count": 6,
      "outputs": []
    },
    {
      "cell_type": "code",
      "source": [
        "# The first 5 observation units of the data set were accessed.\n",
        "df.head()"
      ],
      "metadata": {
        "execution": {
          "iopub.status.busy": "2021-10-19T18:44:37.163047Z",
          "iopub.execute_input": "2021-10-19T18:44:37.163326Z",
          "iopub.status.idle": "2021-10-19T18:44:37.189866Z",
          "shell.execute_reply.started": "2021-10-19T18:44:37.163292Z",
          "shell.execute_reply": "2021-10-19T18:44:37.189127Z"
        },
        "trusted": true,
        "id": "ZS2twf7hFfhI",
        "colab": {
          "base_uri": "https://localhost:8080/",
          "height": 226
        },
        "outputId": "a413dd76-306d-46ff-80e0-f2793962ca96"
      },
      "execution_count": 7,
      "outputs": [
        {
          "output_type": "execute_result",
          "data": {
            "text/plain": [
              "   Pregnancies  Glucose  BloodPressure  SkinThickness  Insulin   BMI  \\\n",
              "0            6      148             72             35        0  33.6   \n",
              "1            1       85             66             29        0  26.6   \n",
              "2            8      183             64              0        0  23.3   \n",
              "3            1       89             66             23       94  28.1   \n",
              "4            0      137             40             35      168  43.1   \n",
              "\n",
              "   DiabetesPedigreeFunction  Age  Outcome  \n",
              "0                     0.627   50        1  \n",
              "1                     0.351   31        0  \n",
              "2                     0.672   32        1  \n",
              "3                     0.167   21        0  \n",
              "4                     2.288   33        1  "
            ],
            "text/html": [
              "\n",
              "  <div id=\"df-14127e80-cf59-4601-8ebd-e4ad22f2ebb7\" class=\"colab-df-container\">\n",
              "    <div>\n",
              "<style scoped>\n",
              "    .dataframe tbody tr th:only-of-type {\n",
              "        vertical-align: middle;\n",
              "    }\n",
              "\n",
              "    .dataframe tbody tr th {\n",
              "        vertical-align: top;\n",
              "    }\n",
              "\n",
              "    .dataframe thead th {\n",
              "        text-align: right;\n",
              "    }\n",
              "</style>\n",
              "<table border=\"1\" class=\"dataframe\">\n",
              "  <thead>\n",
              "    <tr style=\"text-align: right;\">\n",
              "      <th></th>\n",
              "      <th>Pregnancies</th>\n",
              "      <th>Glucose</th>\n",
              "      <th>BloodPressure</th>\n",
              "      <th>SkinThickness</th>\n",
              "      <th>Insulin</th>\n",
              "      <th>BMI</th>\n",
              "      <th>DiabetesPedigreeFunction</th>\n",
              "      <th>Age</th>\n",
              "      <th>Outcome</th>\n",
              "    </tr>\n",
              "  </thead>\n",
              "  <tbody>\n",
              "    <tr>\n",
              "      <th>0</th>\n",
              "      <td>6</td>\n",
              "      <td>148</td>\n",
              "      <td>72</td>\n",
              "      <td>35</td>\n",
              "      <td>0</td>\n",
              "      <td>33.6</td>\n",
              "      <td>0.627</td>\n",
              "      <td>50</td>\n",
              "      <td>1</td>\n",
              "    </tr>\n",
              "    <tr>\n",
              "      <th>1</th>\n",
              "      <td>1</td>\n",
              "      <td>85</td>\n",
              "      <td>66</td>\n",
              "      <td>29</td>\n",
              "      <td>0</td>\n",
              "      <td>26.6</td>\n",
              "      <td>0.351</td>\n",
              "      <td>31</td>\n",
              "      <td>0</td>\n",
              "    </tr>\n",
              "    <tr>\n",
              "      <th>2</th>\n",
              "      <td>8</td>\n",
              "      <td>183</td>\n",
              "      <td>64</td>\n",
              "      <td>0</td>\n",
              "      <td>0</td>\n",
              "      <td>23.3</td>\n",
              "      <td>0.672</td>\n",
              "      <td>32</td>\n",
              "      <td>1</td>\n",
              "    </tr>\n",
              "    <tr>\n",
              "      <th>3</th>\n",
              "      <td>1</td>\n",
              "      <td>89</td>\n",
              "      <td>66</td>\n",
              "      <td>23</td>\n",
              "      <td>94</td>\n",
              "      <td>28.1</td>\n",
              "      <td>0.167</td>\n",
              "      <td>21</td>\n",
              "      <td>0</td>\n",
              "    </tr>\n",
              "    <tr>\n",
              "      <th>4</th>\n",
              "      <td>0</td>\n",
              "      <td>137</td>\n",
              "      <td>40</td>\n",
              "      <td>35</td>\n",
              "      <td>168</td>\n",
              "      <td>43.1</td>\n",
              "      <td>2.288</td>\n",
              "      <td>33</td>\n",
              "      <td>1</td>\n",
              "    </tr>\n",
              "  </tbody>\n",
              "</table>\n",
              "</div>\n",
              "    <div class=\"colab-df-buttons\">\n",
              "\n",
              "  <div class=\"colab-df-container\">\n",
              "    <button class=\"colab-df-convert\" onclick=\"convertToInteractive('df-14127e80-cf59-4601-8ebd-e4ad22f2ebb7')\"\n",
              "            title=\"Convert this dataframe to an interactive table.\"\n",
              "            style=\"display:none;\">\n",
              "\n",
              "  <svg xmlns=\"http://www.w3.org/2000/svg\" height=\"24px\" viewBox=\"0 -960 960 960\">\n",
              "    <path d=\"M120-120v-720h720v720H120Zm60-500h600v-160H180v160Zm220 220h160v-160H400v160Zm0 220h160v-160H400v160ZM180-400h160v-160H180v160Zm440 0h160v-160H620v160ZM180-180h160v-160H180v160Zm440 0h160v-160H620v160Z\"/>\n",
              "  </svg>\n",
              "    </button>\n",
              "\n",
              "  <style>\n",
              "    .colab-df-container {\n",
              "      display:flex;\n",
              "      gap: 12px;\n",
              "    }\n",
              "\n",
              "    .colab-df-convert {\n",
              "      background-color: #E8F0FE;\n",
              "      border: none;\n",
              "      border-radius: 50%;\n",
              "      cursor: pointer;\n",
              "      display: none;\n",
              "      fill: #1967D2;\n",
              "      height: 32px;\n",
              "      padding: 0 0 0 0;\n",
              "      width: 32px;\n",
              "    }\n",
              "\n",
              "    .colab-df-convert:hover {\n",
              "      background-color: #E2EBFA;\n",
              "      box-shadow: 0px 1px 2px rgba(60, 64, 67, 0.3), 0px 1px 3px 1px rgba(60, 64, 67, 0.15);\n",
              "      fill: #174EA6;\n",
              "    }\n",
              "\n",
              "    .colab-df-buttons div {\n",
              "      margin-bottom: 4px;\n",
              "    }\n",
              "\n",
              "    [theme=dark] .colab-df-convert {\n",
              "      background-color: #3B4455;\n",
              "      fill: #D2E3FC;\n",
              "    }\n",
              "\n",
              "    [theme=dark] .colab-df-convert:hover {\n",
              "      background-color: #434B5C;\n",
              "      box-shadow: 0px 1px 3px 1px rgba(0, 0, 0, 0.15);\n",
              "      filter: drop-shadow(0px 1px 2px rgba(0, 0, 0, 0.3));\n",
              "      fill: #FFFFFF;\n",
              "    }\n",
              "  </style>\n",
              "\n",
              "    <script>\n",
              "      const buttonEl =\n",
              "        document.querySelector('#df-14127e80-cf59-4601-8ebd-e4ad22f2ebb7 button.colab-df-convert');\n",
              "      buttonEl.style.display =\n",
              "        google.colab.kernel.accessAllowed ? 'block' : 'none';\n",
              "\n",
              "      async function convertToInteractive(key) {\n",
              "        const element = document.querySelector('#df-14127e80-cf59-4601-8ebd-e4ad22f2ebb7');\n",
              "        const dataTable =\n",
              "          await google.colab.kernel.invokeFunction('convertToInteractive',\n",
              "                                                    [key], {});\n",
              "        if (!dataTable) return;\n",
              "\n",
              "        const docLinkHtml = 'Like what you see? Visit the ' +\n",
              "          '<a target=\"_blank\" href=https://colab.research.google.com/notebooks/data_table.ipynb>data table notebook</a>'\n",
              "          + ' to learn more about interactive tables.';\n",
              "        element.innerHTML = '';\n",
              "        dataTable['output_type'] = 'display_data';\n",
              "        await google.colab.output.renderOutput(dataTable, element);\n",
              "        const docLink = document.createElement('div');\n",
              "        docLink.innerHTML = docLinkHtml;\n",
              "        element.appendChild(docLink);\n",
              "      }\n",
              "    </script>\n",
              "  </div>\n",
              "\n",
              "\n",
              "<div id=\"df-8de417e5-aa2a-4f5d-ba29-8f75dbc5bdc0\">\n",
              "  <button class=\"colab-df-quickchart\" onclick=\"quickchart('df-8de417e5-aa2a-4f5d-ba29-8f75dbc5bdc0')\"\n",
              "            title=\"Suggest charts\"\n",
              "            style=\"display:none;\">\n",
              "\n",
              "<svg xmlns=\"http://www.w3.org/2000/svg\" height=\"24px\"viewBox=\"0 0 24 24\"\n",
              "     width=\"24px\">\n",
              "    <g>\n",
              "        <path d=\"M19 3H5c-1.1 0-2 .9-2 2v14c0 1.1.9 2 2 2h14c1.1 0 2-.9 2-2V5c0-1.1-.9-2-2-2zM9 17H7v-7h2v7zm4 0h-2V7h2v10zm4 0h-2v-4h2v4z\"/>\n",
              "    </g>\n",
              "</svg>\n",
              "  </button>\n",
              "\n",
              "<style>\n",
              "  .colab-df-quickchart {\n",
              "      --bg-color: #E8F0FE;\n",
              "      --fill-color: #1967D2;\n",
              "      --hover-bg-color: #E2EBFA;\n",
              "      --hover-fill-color: #174EA6;\n",
              "      --disabled-fill-color: #AAA;\n",
              "      --disabled-bg-color: #DDD;\n",
              "  }\n",
              "\n",
              "  [theme=dark] .colab-df-quickchart {\n",
              "      --bg-color: #3B4455;\n",
              "      --fill-color: #D2E3FC;\n",
              "      --hover-bg-color: #434B5C;\n",
              "      --hover-fill-color: #FFFFFF;\n",
              "      --disabled-bg-color: #3B4455;\n",
              "      --disabled-fill-color: #666;\n",
              "  }\n",
              "\n",
              "  .colab-df-quickchart {\n",
              "    background-color: var(--bg-color);\n",
              "    border: none;\n",
              "    border-radius: 50%;\n",
              "    cursor: pointer;\n",
              "    display: none;\n",
              "    fill: var(--fill-color);\n",
              "    height: 32px;\n",
              "    padding: 0;\n",
              "    width: 32px;\n",
              "  }\n",
              "\n",
              "  .colab-df-quickchart:hover {\n",
              "    background-color: var(--hover-bg-color);\n",
              "    box-shadow: 0 1px 2px rgba(60, 64, 67, 0.3), 0 1px 3px 1px rgba(60, 64, 67, 0.15);\n",
              "    fill: var(--button-hover-fill-color);\n",
              "  }\n",
              "\n",
              "  .colab-df-quickchart-complete:disabled,\n",
              "  .colab-df-quickchart-complete:disabled:hover {\n",
              "    background-color: var(--disabled-bg-color);\n",
              "    fill: var(--disabled-fill-color);\n",
              "    box-shadow: none;\n",
              "  }\n",
              "\n",
              "  .colab-df-spinner {\n",
              "    border: 2px solid var(--fill-color);\n",
              "    border-color: transparent;\n",
              "    border-bottom-color: var(--fill-color);\n",
              "    animation:\n",
              "      spin 1s steps(1) infinite;\n",
              "  }\n",
              "\n",
              "  @keyframes spin {\n",
              "    0% {\n",
              "      border-color: transparent;\n",
              "      border-bottom-color: var(--fill-color);\n",
              "      border-left-color: var(--fill-color);\n",
              "    }\n",
              "    20% {\n",
              "      border-color: transparent;\n",
              "      border-left-color: var(--fill-color);\n",
              "      border-top-color: var(--fill-color);\n",
              "    }\n",
              "    30% {\n",
              "      border-color: transparent;\n",
              "      border-left-color: var(--fill-color);\n",
              "      border-top-color: var(--fill-color);\n",
              "      border-right-color: var(--fill-color);\n",
              "    }\n",
              "    40% {\n",
              "      border-color: transparent;\n",
              "      border-right-color: var(--fill-color);\n",
              "      border-top-color: var(--fill-color);\n",
              "    }\n",
              "    60% {\n",
              "      border-color: transparent;\n",
              "      border-right-color: var(--fill-color);\n",
              "    }\n",
              "    80% {\n",
              "      border-color: transparent;\n",
              "      border-right-color: var(--fill-color);\n",
              "      border-bottom-color: var(--fill-color);\n",
              "    }\n",
              "    90% {\n",
              "      border-color: transparent;\n",
              "      border-bottom-color: var(--fill-color);\n",
              "    }\n",
              "  }\n",
              "</style>\n",
              "\n",
              "  <script>\n",
              "    async function quickchart(key) {\n",
              "      const quickchartButtonEl =\n",
              "        document.querySelector('#' + key + ' button');\n",
              "      quickchartButtonEl.disabled = true;  // To prevent multiple clicks.\n",
              "      quickchartButtonEl.classList.add('colab-df-spinner');\n",
              "      try {\n",
              "        const charts = await google.colab.kernel.invokeFunction(\n",
              "            'suggestCharts', [key], {});\n",
              "      } catch (error) {\n",
              "        console.error('Error during call to suggestCharts:', error);\n",
              "      }\n",
              "      quickchartButtonEl.classList.remove('colab-df-spinner');\n",
              "      quickchartButtonEl.classList.add('colab-df-quickchart-complete');\n",
              "    }\n",
              "    (() => {\n",
              "      let quickchartButtonEl =\n",
              "        document.querySelector('#df-8de417e5-aa2a-4f5d-ba29-8f75dbc5bdc0 button');\n",
              "      quickchartButtonEl.style.display =\n",
              "        google.colab.kernel.accessAllowed ? 'block' : 'none';\n",
              "    })();\n",
              "  </script>\n",
              "</div>\n",
              "\n",
              "    </div>\n",
              "  </div>\n"
            ],
            "application/vnd.google.colaboratory.intrinsic+json": {
              "type": "dataframe",
              "variable_name": "df",
              "summary": "{\n  \"name\": \"df\",\n  \"rows\": 768,\n  \"fields\": [\n    {\n      \"column\": \"Pregnancies\",\n      \"properties\": {\n        \"dtype\": \"number\",\n        \"std\": 3,\n        \"min\": 0,\n        \"max\": 17,\n        \"num_unique_values\": 17,\n        \"samples\": [\n          6,\n          1,\n          3\n        ],\n        \"semantic_type\": \"\",\n        \"description\": \"\"\n      }\n    },\n    {\n      \"column\": \"Glucose\",\n      \"properties\": {\n        \"dtype\": \"number\",\n        \"std\": 31,\n        \"min\": 0,\n        \"max\": 199,\n        \"num_unique_values\": 136,\n        \"samples\": [\n          151,\n          101,\n          112\n        ],\n        \"semantic_type\": \"\",\n        \"description\": \"\"\n      }\n    },\n    {\n      \"column\": \"BloodPressure\",\n      \"properties\": {\n        \"dtype\": \"number\",\n        \"std\": 19,\n        \"min\": 0,\n        \"max\": 122,\n        \"num_unique_values\": 47,\n        \"samples\": [\n          86,\n          46,\n          85\n        ],\n        \"semantic_type\": \"\",\n        \"description\": \"\"\n      }\n    },\n    {\n      \"column\": \"SkinThickness\",\n      \"properties\": {\n        \"dtype\": \"number\",\n        \"std\": 15,\n        \"min\": 0,\n        \"max\": 99,\n        \"num_unique_values\": 51,\n        \"samples\": [\n          7,\n          12,\n          48\n        ],\n        \"semantic_type\": \"\",\n        \"description\": \"\"\n      }\n    },\n    {\n      \"column\": \"Insulin\",\n      \"properties\": {\n        \"dtype\": \"number\",\n        \"std\": 115,\n        \"min\": 0,\n        \"max\": 846,\n        \"num_unique_values\": 186,\n        \"samples\": [\n          52,\n          41,\n          183\n        ],\n        \"semantic_type\": \"\",\n        \"description\": \"\"\n      }\n    },\n    {\n      \"column\": \"BMI\",\n      \"properties\": {\n        \"dtype\": \"number\",\n        \"std\": 7.8841603203754405,\n        \"min\": 0.0,\n        \"max\": 67.1,\n        \"num_unique_values\": 248,\n        \"samples\": [\n          19.9,\n          31.0,\n          38.1\n        ],\n        \"semantic_type\": \"\",\n        \"description\": \"\"\n      }\n    },\n    {\n      \"column\": \"DiabetesPedigreeFunction\",\n      \"properties\": {\n        \"dtype\": \"number\",\n        \"std\": 0.33132859501277484,\n        \"min\": 0.078,\n        \"max\": 2.42,\n        \"num_unique_values\": 517,\n        \"samples\": [\n          1.731,\n          0.426,\n          0.138\n        ],\n        \"semantic_type\": \"\",\n        \"description\": \"\"\n      }\n    },\n    {\n      \"column\": \"Age\",\n      \"properties\": {\n        \"dtype\": \"number\",\n        \"std\": 11,\n        \"min\": 21,\n        \"max\": 81,\n        \"num_unique_values\": 52,\n        \"samples\": [\n          60,\n          47,\n          72\n        ],\n        \"semantic_type\": \"\",\n        \"description\": \"\"\n      }\n    },\n    {\n      \"column\": \"Outcome\",\n      \"properties\": {\n        \"dtype\": \"number\",\n        \"std\": 0,\n        \"min\": 0,\n        \"max\": 1,\n        \"num_unique_values\": 2,\n        \"samples\": [\n          0,\n          1\n        ],\n        \"semantic_type\": \"\",\n        \"description\": \"\"\n      }\n    }\n  ]\n}"
            }
          },
          "metadata": {},
          "execution_count": 7
        }
      ]
    },
    {
      "cell_type": "code",
      "source": [
        "y = df[\"Outcome\"]\n",
        "X = df.drop([\"Outcome\"], axis=1)"
      ],
      "metadata": {
        "execution": {
          "iopub.status.busy": "2021-10-19T18:44:37.191048Z",
          "iopub.execute_input": "2021-10-19T18:44:37.191272Z",
          "iopub.status.idle": "2021-10-19T18:44:37.204888Z",
          "shell.execute_reply.started": "2021-10-19T18:44:37.191236Z",
          "shell.execute_reply": "2021-10-19T18:44:37.203938Z"
        },
        "trusted": true,
        "id": "PqE6DWV4FfhI"
      },
      "execution_count": 8,
      "outputs": []
    },
    {
      "cell_type": "code",
      "source": [
        "# Model\n",
        "cart_model = DecisionTreeClassifier(random_state=17).fit(X, y)"
      ],
      "metadata": {
        "execution": {
          "iopub.status.busy": "2021-10-19T18:44:37.20723Z",
          "iopub.execute_input": "2021-10-19T18:44:37.207827Z",
          "iopub.status.idle": "2021-10-19T18:44:37.228247Z",
          "shell.execute_reply.started": "2021-10-19T18:44:37.207786Z",
          "shell.execute_reply": "2021-10-19T18:44:37.227234Z"
        },
        "trusted": true,
        "id": "oHsBaAFWFfhI"
      },
      "execution_count": 9,
      "outputs": []
    },
    {
      "cell_type": "code",
      "source": [
        "#y_pred for Confusion Matrix  :\n",
        "y_pred = cart_model.predict(X)"
      ],
      "metadata": {
        "execution": {
          "iopub.status.busy": "2021-10-19T18:44:37.229765Z",
          "iopub.execute_input": "2021-10-19T18:44:37.230013Z",
          "iopub.status.idle": "2021-10-19T18:44:37.23649Z",
          "shell.execute_reply.started": "2021-10-19T18:44:37.229977Z",
          "shell.execute_reply": "2021-10-19T18:44:37.235417Z"
        },
        "trusted": true,
        "id": "Igx5C30vFfhJ"
      },
      "execution_count": 10,
      "outputs": []
    },
    {
      "cell_type": "code",
      "source": [
        "#y_prob for AUC:\n",
        "y_prob = cart_model.predict_proba(X)[:, 1]"
      ],
      "metadata": {
        "execution": {
          "iopub.status.busy": "2021-10-19T18:44:37.237637Z",
          "iopub.execute_input": "2021-10-19T18:44:37.238033Z",
          "iopub.status.idle": "2021-10-19T18:44:37.251877Z",
          "shell.execute_reply.started": "2021-10-19T18:44:37.238001Z",
          "shell.execute_reply": "2021-10-19T18:44:37.251119Z"
        },
        "trusted": true,
        "id": "YaI42fUFFfhJ"
      },
      "execution_count": 11,
      "outputs": []
    },
    {
      "cell_type": "code",
      "source": [
        "# Confusion matrix\n",
        "print(classification_report(y, y_pred))"
      ],
      "metadata": {
        "execution": {
          "iopub.status.busy": "2021-10-19T18:44:37.253126Z",
          "iopub.execute_input": "2021-10-19T18:44:37.253507Z",
          "iopub.status.idle": "2021-10-19T18:44:37.271201Z",
          "shell.execute_reply.started": "2021-10-19T18:44:37.253475Z",
          "shell.execute_reply": "2021-10-19T18:44:37.270434Z"
        },
        "trusted": true,
        "id": "KKhDoIinFfhJ",
        "colab": {
          "base_uri": "https://localhost:8080/"
        },
        "outputId": "41c57372-f58b-4fd1-f25d-b0a37668f97e"
      },
      "execution_count": 12,
      "outputs": [
        {
          "output_type": "stream",
          "name": "stdout",
          "text": [
            "              precision    recall  f1-score   support\n",
            "\n",
            "           0       1.00      1.00      1.00       500\n",
            "           1       1.00      1.00      1.00       268\n",
            "\n",
            "    accuracy                           1.00       768\n",
            "   macro avg       1.00      1.00      1.00       768\n",
            "weighted avg       1.00      1.00      1.00       768\n",
            "\n"
          ]
        }
      ]
    },
    {
      "cell_type": "code",
      "source": [
        "# AUC\n",
        "roc_auc_score(y, y_prob)"
      ],
      "metadata": {
        "execution": {
          "iopub.status.busy": "2021-10-19T18:44:37.27241Z",
          "iopub.execute_input": "2021-10-19T18:44:37.272817Z",
          "iopub.status.idle": "2021-10-19T18:44:37.283443Z",
          "shell.execute_reply.started": "2021-10-19T18:44:37.272706Z",
          "shell.execute_reply": "2021-10-19T18:44:37.282788Z"
        },
        "trusted": true,
        "id": "-VdP8pCdFfhK",
        "colab": {
          "base_uri": "https://localhost:8080/"
        },
        "outputId": "5b5b2f0c-83c3-4050-f072-b746d0ff6642"
      },
      "execution_count": 13,
      "outputs": [
        {
          "output_type": "execute_result",
          "data": {
            "text/plain": [
              "1.0"
            ]
          },
          "metadata": {},
          "execution_count": 13
        }
      ]
    },
    {
      "cell_type": "markdown",
      "source": [
        "# Evaluation of Success with the Holdout Method"
      ],
      "metadata": {
        "id": "R6XfZIPCFfhK"
      }
    },
    {
      "cell_type": "code",
      "source": [
        "X_train, X_test, y_train, y_test = train_test_split(X, y, test_size=0.30, random_state=85)"
      ],
      "metadata": {
        "execution": {
          "iopub.status.busy": "2021-10-19T18:44:37.284678Z",
          "iopub.execute_input": "2021-10-19T18:44:37.28509Z",
          "iopub.status.idle": "2021-10-19T18:44:37.296499Z",
          "shell.execute_reply.started": "2021-10-19T18:44:37.285048Z",
          "shell.execute_reply": "2021-10-19T18:44:37.295813Z"
        },
        "trusted": true,
        "id": "OWH8bAidFfhK"
      },
      "execution_count": 14,
      "outputs": []
    },
    {
      "cell_type": "code",
      "source": [
        "cart_model = DecisionTreeClassifier(random_state=17).fit(X_train, y_train)"
      ],
      "metadata": {
        "execution": {
          "iopub.status.busy": "2021-10-19T18:44:37.297895Z",
          "iopub.execute_input": "2021-10-19T18:44:37.298293Z",
          "iopub.status.idle": "2021-10-19T18:44:37.308838Z",
          "shell.execute_reply.started": "2021-10-19T18:44:37.298251Z",
          "shell.execute_reply": "2021-10-19T18:44:37.307872Z"
        },
        "trusted": true,
        "id": "EJUdk2F_FfhK"
      },
      "execution_count": 15,
      "outputs": []
    },
    {
      "cell_type": "code",
      "source": [
        "# Train Error\n",
        "y_pred = cart_model.predict(X_train)\n",
        "y_prob = cart_model.predict_proba(X_train)[:, 1]\n",
        "print(classification_report(y_train, y_pred))"
      ],
      "metadata": {
        "execution": {
          "iopub.status.busy": "2021-10-19T18:44:37.310455Z",
          "iopub.execute_input": "2021-10-19T18:44:37.31096Z",
          "iopub.status.idle": "2021-10-19T18:44:37.326918Z",
          "shell.execute_reply.started": "2021-10-19T18:44:37.31092Z",
          "shell.execute_reply": "2021-10-19T18:44:37.325785Z"
        },
        "trusted": true,
        "id": "5THNb61LFfhK",
        "colab": {
          "base_uri": "https://localhost:8080/"
        },
        "outputId": "cd35dbf8-3e20-479f-b590-167321cea3d6"
      },
      "execution_count": 16,
      "outputs": [
        {
          "output_type": "stream",
          "name": "stdout",
          "text": [
            "              precision    recall  f1-score   support\n",
            "\n",
            "           0       1.00      1.00      1.00       349\n",
            "           1       1.00      1.00      1.00       188\n",
            "\n",
            "    accuracy                           1.00       537\n",
            "   macro avg       1.00      1.00      1.00       537\n",
            "weighted avg       1.00      1.00      1.00       537\n",
            "\n"
          ]
        }
      ]
    },
    {
      "cell_type": "code",
      "source": [
        "roc_auc_score(y_train, y_prob)"
      ],
      "metadata": {
        "execution": {
          "iopub.status.busy": "2021-10-19T18:44:37.328469Z",
          "iopub.execute_input": "2021-10-19T18:44:37.328959Z",
          "iopub.status.idle": "2021-10-19T18:44:37.337392Z",
          "shell.execute_reply.started": "2021-10-19T18:44:37.328917Z",
          "shell.execute_reply": "2021-10-19T18:44:37.336751Z"
        },
        "trusted": true,
        "id": "Q_8gYrbSFfhL",
        "colab": {
          "base_uri": "https://localhost:8080/"
        },
        "outputId": "f17476c9-b64f-4e86-aaaa-505239f32dd9"
      },
      "execution_count": 17,
      "outputs": [
        {
          "output_type": "execute_result",
          "data": {
            "text/plain": [
              "1.0"
            ]
          },
          "metadata": {},
          "execution_count": 17
        }
      ]
    },
    {
      "cell_type": "code",
      "source": [
        "# Test Error\n",
        "y_pred = cart_model.predict(X_test)\n",
        "y_prob = cart_model.predict_proba(X_test)[:, 1]\n",
        "print(classification_report(y_test, y_pred))"
      ],
      "metadata": {
        "execution": {
          "iopub.status.busy": "2021-10-19T18:44:37.341732Z",
          "iopub.execute_input": "2021-10-19T18:44:37.342087Z",
          "iopub.status.idle": "2021-10-19T18:44:37.355786Z",
          "shell.execute_reply.started": "2021-10-19T18:44:37.342055Z",
          "shell.execute_reply": "2021-10-19T18:44:37.354602Z"
        },
        "trusted": true,
        "id": "P_vSayNEFfhM",
        "colab": {
          "base_uri": "https://localhost:8080/"
        },
        "outputId": "8134af7a-2ace-43ac-b8bc-58a29f1bf7c1"
      },
      "execution_count": 18,
      "outputs": [
        {
          "output_type": "stream",
          "name": "stdout",
          "text": [
            "              precision    recall  f1-score   support\n",
            "\n",
            "           0       0.77      0.76      0.76       151\n",
            "           1       0.56      0.56      0.56        80\n",
            "\n",
            "    accuracy                           0.69       231\n",
            "   macro avg       0.66      0.66      0.66       231\n",
            "weighted avg       0.69      0.69      0.69       231\n",
            "\n"
          ]
        }
      ]
    },
    {
      "cell_type": "code",
      "source": [
        "roc_auc_score(y_test, y_prob)"
      ],
      "metadata": {
        "execution": {
          "iopub.status.busy": "2021-10-19T18:44:37.35691Z",
          "iopub.execute_input": "2021-10-19T18:44:37.357672Z",
          "iopub.status.idle": "2021-10-19T18:44:37.364843Z",
          "shell.execute_reply.started": "2021-10-19T18:44:37.357633Z",
          "shell.execute_reply": "2021-10-19T18:44:37.363969Z"
        },
        "trusted": true,
        "id": "dobs8AT5FfhM",
        "colab": {
          "base_uri": "https://localhost:8080/"
        },
        "outputId": "ae4dfdad-d666-46b9-b9ac-b6a88ee9a12b"
      },
      "execution_count": 19,
      "outputs": [
        {
          "output_type": "execute_result",
          "data": {
            "text/plain": [
              "0.6620447019867549"
            ]
          },
          "metadata": {},
          "execution_count": 19
        }
      ]
    },
    {
      "cell_type": "markdown",
      "source": [
        "# Evaluation of Success with Cross Validation"
      ],
      "metadata": {
        "id": "Jejqm7WJFfhM"
      }
    },
    {
      "cell_type": "code",
      "source": [
        "cart_model = DecisionTreeClassifier(random_state=17).fit(X, y)"
      ],
      "metadata": {
        "execution": {
          "iopub.status.busy": "2021-10-19T18:44:37.366149Z",
          "iopub.execute_input": "2021-10-19T18:44:37.366565Z",
          "iopub.status.idle": "2021-10-19T18:44:37.381789Z",
          "shell.execute_reply.started": "2021-10-19T18:44:37.366536Z",
          "shell.execute_reply": "2021-10-19T18:44:37.380847Z"
        },
        "trusted": true,
        "id": "yEWW7B1FFfhM"
      },
      "execution_count": 20,
      "outputs": []
    },
    {
      "cell_type": "code",
      "source": [
        "cv_results = cross_validate(cart_model,\n",
        "                            X, y,\n",
        "                            cv=10,\n",
        "                            scoring=[\"accuracy\", \"f1\", \"roc_auc\"])"
      ],
      "metadata": {
        "execution": {
          "iopub.status.busy": "2021-10-19T18:44:37.38303Z",
          "iopub.execute_input": "2021-10-19T18:44:37.383443Z",
          "iopub.status.idle": "2021-10-19T18:44:37.503585Z",
          "shell.execute_reply.started": "2021-10-19T18:44:37.383395Z",
          "shell.execute_reply": "2021-10-19T18:44:37.502913Z"
        },
        "trusted": true,
        "id": "jBqO9-84FfhM"
      },
      "execution_count": 21,
      "outputs": []
    },
    {
      "cell_type": "code",
      "source": [
        "cv_results['test_accuracy'].mean()"
      ],
      "metadata": {
        "execution": {
          "iopub.status.busy": "2021-10-19T18:44:37.504895Z",
          "iopub.execute_input": "2021-10-19T18:44:37.505927Z",
          "iopub.status.idle": "2021-10-19T18:44:37.512568Z",
          "shell.execute_reply.started": "2021-10-19T18:44:37.505879Z",
          "shell.execute_reply": "2021-10-19T18:44:37.511713Z"
        },
        "trusted": true,
        "id": "nFNQLJrSFfhM",
        "colab": {
          "base_uri": "https://localhost:8080/"
        },
        "outputId": "3dd497fd-f7fe-48ab-f44e-093237a5e0b7"
      },
      "execution_count": 22,
      "outputs": [
        {
          "output_type": "execute_result",
          "data": {
            "text/plain": [
              "0.7148496240601504"
            ]
          },
          "metadata": {},
          "execution_count": 22
        }
      ]
    },
    {
      "cell_type": "code",
      "source": [
        "cv_results['test_f1'].mean()"
      ],
      "metadata": {
        "execution": {
          "iopub.status.busy": "2021-10-19T18:44:37.513772Z",
          "iopub.execute_input": "2021-10-19T18:44:37.514078Z",
          "iopub.status.idle": "2021-10-19T18:44:37.52643Z",
          "shell.execute_reply.started": "2021-10-19T18:44:37.514035Z",
          "shell.execute_reply": "2021-10-19T18:44:37.525673Z"
        },
        "trusted": true,
        "id": "NumgaVCEFfhM",
        "colab": {
          "base_uri": "https://localhost:8080/"
        },
        "outputId": "4d5a5f24-a573-4a93-f98b-57f3df8310a7"
      },
      "execution_count": 23,
      "outputs": [
        {
          "output_type": "execute_result",
          "data": {
            "text/plain": [
              "0.5780669232692448"
            ]
          },
          "metadata": {},
          "execution_count": 23
        }
      ]
    },
    {
      "cell_type": "code",
      "source": [
        "cv_results['test_roc_auc'].mean()"
      ],
      "metadata": {
        "execution": {
          "iopub.status.busy": "2021-10-19T18:44:37.527423Z",
          "iopub.execute_input": "2021-10-19T18:44:37.528199Z",
          "iopub.status.idle": "2021-10-19T18:44:37.53828Z",
          "shell.execute_reply.started": "2021-10-19T18:44:37.528158Z",
          "shell.execute_reply": "2021-10-19T18:44:37.537703Z"
        },
        "trusted": true,
        "id": "PHNjxB3KFfhM",
        "colab": {
          "base_uri": "https://localhost:8080/"
        },
        "outputId": "5c083b4c-088f-4e32-a46b-d5050392b3b1"
      },
      "execution_count": 24,
      "outputs": [
        {
          "output_type": "execute_result",
          "data": {
            "text/plain": [
              "0.6796239316239316"
            ]
          },
          "metadata": {},
          "execution_count": 24
        }
      ]
    },
    {
      "cell_type": "markdown",
      "source": [
        "# Hyperparameter Optimization with GridSearchCV"
      ],
      "metadata": {
        "id": "fbIuihVDFfhO"
      }
    },
    {
      "cell_type": "code",
      "source": [
        "cart_model.get_params()"
      ],
      "metadata": {
        "execution": {
          "iopub.status.busy": "2021-10-19T18:44:37.539172Z",
          "iopub.execute_input": "2021-10-19T18:44:37.539886Z",
          "iopub.status.idle": "2021-10-19T18:44:37.552996Z",
          "shell.execute_reply.started": "2021-10-19T18:44:37.539841Z",
          "shell.execute_reply": "2021-10-19T18:44:37.551967Z"
        },
        "trusted": true,
        "id": "iKB2fNSIFfhO",
        "colab": {
          "base_uri": "https://localhost:8080/"
        },
        "outputId": "c82d9815-f9df-48c3-c7e7-44291d11d925"
      },
      "execution_count": 25,
      "outputs": [
        {
          "output_type": "execute_result",
          "data": {
            "text/plain": [
              "{'ccp_alpha': 0.0,\n",
              " 'class_weight': None,\n",
              " 'criterion': 'gini',\n",
              " 'max_depth': None,\n",
              " 'max_features': None,\n",
              " 'max_leaf_nodes': None,\n",
              " 'min_impurity_decrease': 0.0,\n",
              " 'min_samples_leaf': 1,\n",
              " 'min_samples_split': 2,\n",
              " 'min_weight_fraction_leaf': 0.0,\n",
              " 'monotonic_cst': None,\n",
              " 'random_state': 17,\n",
              " 'splitter': 'best'}"
            ]
          },
          "metadata": {},
          "execution_count": 25
        }
      ]
    },
    {
      "cell_type": "code",
      "source": [
        "# Hyperparameter set to search:\n",
        "cart_params = {'max_depth': range(1, 11),\n",
        "               \"min_samples_split\": range(2, 20)}"
      ],
      "metadata": {
        "execution": {
          "iopub.status.busy": "2021-10-19T18:44:37.554489Z",
          "iopub.execute_input": "2021-10-19T18:44:37.554828Z",
          "iopub.status.idle": "2021-10-19T18:44:37.563047Z",
          "shell.execute_reply.started": "2021-10-19T18:44:37.554783Z",
          "shell.execute_reply": "2021-10-19T18:44:37.562431Z"
        },
        "trusted": true,
        "id": "GuWppMKZFfhO"
      },
      "execution_count": 26,
      "outputs": []
    },
    {
      "cell_type": "code",
      "source": [
        "# GridSearchCV\n",
        "cart_best_grid = GridSearchCV(cart_model,\n",
        "                              cart_params,\n",
        "                              cv=5,\n",
        "                              n_jobs=-1,\n",
        "                              verbose=True).fit(X, y)"
      ],
      "metadata": {
        "execution": {
          "iopub.status.busy": "2021-10-19T18:44:37.564296Z",
          "iopub.execute_input": "2021-10-19T18:44:37.56526Z",
          "iopub.status.idle": "2021-10-19T18:44:43.1099Z",
          "shell.execute_reply.started": "2021-10-19T18:44:37.565217Z",
          "shell.execute_reply": "2021-10-19T18:44:43.109186Z"
        },
        "trusted": true,
        "id": "LoMgQt5XFfhO",
        "colab": {
          "base_uri": "https://localhost:8080/"
        },
        "outputId": "2d190f61-1e0a-46fe-de7b-319882f0a9e5"
      },
      "execution_count": 27,
      "outputs": [
        {
          "output_type": "stream",
          "name": "stdout",
          "text": [
            "Fitting 5 folds for each of 180 candidates, totalling 900 fits\n"
          ]
        },
        {
          "output_type": "stream",
          "name": "stderr",
          "text": [
            "/usr/local/lib/python3.10/dist-packages/numpy/ma/core.py:2820: RuntimeWarning: invalid value encountered in cast\n",
            "  _data = np.array(data, dtype=dtype, copy=copy,\n"
          ]
        }
      ]
    },
    {
      "cell_type": "code",
      "source": [
        "# Best hyper parameter values:\n",
        "cart_best_grid.best_params_"
      ],
      "metadata": {
        "execution": {
          "iopub.status.busy": "2021-10-19T18:44:43.111467Z",
          "iopub.execute_input": "2021-10-19T18:44:43.111857Z",
          "iopub.status.idle": "2021-10-19T18:44:43.117057Z",
          "shell.execute_reply.started": "2021-10-19T18:44:43.111817Z",
          "shell.execute_reply": "2021-10-19T18:44:43.116349Z"
        },
        "trusted": true,
        "id": "tLVEZmUJFfhO",
        "colab": {
          "base_uri": "https://localhost:8080/"
        },
        "outputId": "a371e1ea-8b78-47ad-9ee9-465a7d5821e7"
      },
      "execution_count": 28,
      "outputs": [
        {
          "output_type": "execute_result",
          "data": {
            "text/plain": [
              "{'max_depth': 5, 'min_samples_split': 4}"
            ]
          },
          "metadata": {},
          "execution_count": 28
        }
      ]
    },
    {
      "cell_type": "code",
      "source": [
        "# Best score:\n",
        "cart_best_grid.best_score_"
      ],
      "metadata": {
        "execution": {
          "iopub.status.busy": "2021-10-19T18:44:43.118486Z",
          "iopub.execute_input": "2021-10-19T18:44:43.118786Z",
          "iopub.status.idle": "2021-10-19T18:44:43.137653Z",
          "shell.execute_reply.started": "2021-10-19T18:44:43.118746Z",
          "shell.execute_reply": "2021-10-19T18:44:43.136641Z"
        },
        "trusted": true,
        "id": "0q63U2F9FfhP",
        "colab": {
          "base_uri": "https://localhost:8080/"
        },
        "outputId": "4dd0e4e1-1d32-4009-d0f0-8d84e4e1c817"
      },
      "execution_count": 29,
      "outputs": [
        {
          "output_type": "execute_result",
          "data": {
            "text/plain": [
              "0.7500806383159324"
            ]
          },
          "metadata": {},
          "execution_count": 29
        }
      ]
    },
    {
      "cell_type": "code",
      "source": [
        "random = X.sample(1, random_state=45)\n",
        "print(random)"
      ],
      "metadata": {
        "execution": {
          "iopub.status.busy": "2021-10-19T18:44:43.140651Z",
          "iopub.execute_input": "2021-10-19T18:44:43.141418Z",
          "iopub.status.idle": "2021-10-19T18:44:43.155014Z",
          "shell.execute_reply.started": "2021-10-19T18:44:43.141377Z",
          "shell.execute_reply": "2021-10-19T18:44:43.154079Z"
        },
        "trusted": true,
        "id": "G1uF9YHUFfhP",
        "colab": {
          "base_uri": "https://localhost:8080/"
        },
        "outputId": "8675105d-eed1-4f33-b9d1-5d97d63a0219"
      },
      "execution_count": 30,
      "outputs": [
        {
          "output_type": "stream",
          "name": "stdout",
          "text": [
            "     Pregnancies  Glucose  BloodPressure  SkinThickness  Insulin   BMI  \\\n",
            "195            5      158             84             41      210  39.4   \n",
            "\n",
            "     DiabetesPedigreeFunction  Age  \n",
            "195                     0.395   29  \n"
          ]
        }
      ]
    },
    {
      "cell_type": "code",
      "source": [
        "cart_best_grid.predict(random)"
      ],
      "metadata": {
        "execution": {
          "iopub.status.busy": "2021-10-19T18:44:43.156887Z",
          "iopub.execute_input": "2021-10-19T18:44:43.15747Z",
          "iopub.status.idle": "2021-10-19T18:44:43.166106Z",
          "shell.execute_reply.started": "2021-10-19T18:44:43.157425Z",
          "shell.execute_reply": "2021-10-19T18:44:43.165427Z"
        },
        "trusted": true,
        "id": "g3A5eLUQFfhP",
        "colab": {
          "base_uri": "https://localhost:8080/"
        },
        "outputId": "5a712439-89ae-421e-84a6-d8581997fb45"
      },
      "execution_count": 31,
      "outputs": [
        {
          "output_type": "execute_result",
          "data": {
            "text/plain": [
              "array([1])"
            ]
          },
          "metadata": {},
          "execution_count": 31
        }
      ]
    },
    {
      "cell_type": "markdown",
      "source": [
        "# 5. Final Model"
      ],
      "metadata": {
        "id": "hx9cdbDBFfhP"
      }
    },
    {
      "cell_type": "code",
      "source": [
        "cart_final = DecisionTreeClassifier(**cart_best_grid.best_params_,\n",
        "                                    random_state=17).fit(X, y)"
      ],
      "metadata": {
        "execution": {
          "iopub.status.busy": "2021-10-19T18:44:43.167676Z",
          "iopub.execute_input": "2021-10-19T18:44:43.168237Z",
          "iopub.status.idle": "2021-10-19T18:44:43.180555Z",
          "shell.execute_reply.started": "2021-10-19T18:44:43.168192Z",
          "shell.execute_reply": "2021-10-19T18:44:43.179635Z"
        },
        "trusted": true,
        "id": "pNmOS7YkFfhQ"
      },
      "execution_count": 32,
      "outputs": []
    },
    {
      "cell_type": "code",
      "source": [
        "cart_final.get_params()"
      ],
      "metadata": {
        "execution": {
          "iopub.status.busy": "2021-10-19T18:44:43.182091Z",
          "iopub.execute_input": "2021-10-19T18:44:43.182828Z",
          "iopub.status.idle": "2021-10-19T18:44:43.190103Z",
          "shell.execute_reply.started": "2021-10-19T18:44:43.182781Z",
          "shell.execute_reply": "2021-10-19T18:44:43.189173Z"
        },
        "trusted": true,
        "id": "6tl6WflOFfhQ",
        "colab": {
          "base_uri": "https://localhost:8080/"
        },
        "outputId": "8a889c4b-ba22-4630-ff51-d206dc19e994"
      },
      "execution_count": 33,
      "outputs": [
        {
          "output_type": "execute_result",
          "data": {
            "text/plain": [
              "{'ccp_alpha': 0.0,\n",
              " 'class_weight': None,\n",
              " 'criterion': 'gini',\n",
              " 'max_depth': 5,\n",
              " 'max_features': None,\n",
              " 'max_leaf_nodes': None,\n",
              " 'min_impurity_decrease': 0.0,\n",
              " 'min_samples_leaf': 1,\n",
              " 'min_samples_split': 4,\n",
              " 'min_weight_fraction_leaf': 0.0,\n",
              " 'monotonic_cst': None,\n",
              " 'random_state': 17,\n",
              " 'splitter': 'best'}"
            ]
          },
          "metadata": {},
          "execution_count": 33
        }
      ]
    },
    {
      "cell_type": "code",
      "source": [
        "# Another way to assign the best parameters to the model:\n",
        "cart_final = cart_model.set_params(**cart_best_grid.best_params_).fit(X, y)"
      ],
      "metadata": {
        "execution": {
          "iopub.status.busy": "2021-10-19T18:44:43.191412Z",
          "iopub.execute_input": "2021-10-19T18:44:43.191879Z",
          "iopub.status.idle": "2021-10-19T18:44:43.205011Z",
          "shell.execute_reply.started": "2021-10-19T18:44:43.191846Z",
          "shell.execute_reply": "2021-10-19T18:44:43.204332Z"
        },
        "trusted": true,
        "id": "93xja8qxFfhQ"
      },
      "execution_count": 34,
      "outputs": []
    },
    {
      "cell_type": "code",
      "source": [
        "# CV error of final model:\n",
        "cv_results = cross_validate(cart_final,\n",
        "                            X, y,\n",
        "                            cv=10,\n",
        "                            scoring=[\"accuracy\", \"f1\", \"roc_auc\"])"
      ],
      "metadata": {
        "execution": {
          "iopub.status.busy": "2021-10-19T18:44:43.206256Z",
          "iopub.execute_input": "2021-10-19T18:44:43.206676Z",
          "iopub.status.idle": "2021-10-19T18:44:43.316593Z",
          "shell.execute_reply.started": "2021-10-19T18:44:43.206637Z",
          "shell.execute_reply": "2021-10-19T18:44:43.315963Z"
        },
        "trusted": true,
        "id": "w6-I73_LFfhQ"
      },
      "execution_count": 35,
      "outputs": []
    },
    {
      "cell_type": "code",
      "source": [
        "cv_results['test_accuracy'].mean()\n"
      ],
      "metadata": {
        "execution": {
          "iopub.status.busy": "2021-10-19T18:44:43.317875Z",
          "iopub.execute_input": "2021-10-19T18:44:43.318286Z",
          "iopub.status.idle": "2021-10-19T18:44:43.32412Z",
          "shell.execute_reply.started": "2021-10-19T18:44:43.318255Z",
          "shell.execute_reply": "2021-10-19T18:44:43.323574Z"
        },
        "trusted": true,
        "id": "5n5NsJdWFfhQ",
        "colab": {
          "base_uri": "https://localhost:8080/"
        },
        "outputId": "7eedd8fb-0b25-4d70-89c1-ffb1a44e43e0"
      },
      "execution_count": 36,
      "outputs": [
        {
          "output_type": "execute_result",
          "data": {
            "text/plain": [
              "0.7344326725905673"
            ]
          },
          "metadata": {},
          "execution_count": 36
        }
      ]
    },
    {
      "cell_type": "code",
      "source": [
        "cv_results['test_f1'].mean()\n"
      ],
      "metadata": {
        "execution": {
          "iopub.status.busy": "2021-10-19T18:44:43.325061Z",
          "iopub.execute_input": "2021-10-19T18:44:43.325369Z",
          "iopub.status.idle": "2021-10-19T18:44:43.340692Z",
          "shell.execute_reply.started": "2021-10-19T18:44:43.325342Z",
          "shell.execute_reply": "2021-10-19T18:44:43.33932Z"
        },
        "trusted": true,
        "id": "xhoscW1XFfhQ",
        "colab": {
          "base_uri": "https://localhost:8080/"
        },
        "outputId": "9489158f-ed0d-4a15-b117-b6cd10e7e338"
      },
      "execution_count": 37,
      "outputs": [
        {
          "output_type": "execute_result",
          "data": {
            "text/plain": [
              "0.5701221536747852"
            ]
          },
          "metadata": {},
          "execution_count": 37
        }
      ]
    },
    {
      "cell_type": "code",
      "source": [
        "cv_results['test_roc_auc'].mean()\n"
      ],
      "metadata": {
        "execution": {
          "iopub.status.busy": "2021-10-19T18:44:43.344394Z",
          "iopub.execute_input": "2021-10-19T18:44:43.344823Z",
          "iopub.status.idle": "2021-10-19T18:44:43.353258Z",
          "shell.execute_reply.started": "2021-10-19T18:44:43.344786Z",
          "shell.execute_reply": "2021-10-19T18:44:43.352442Z"
        },
        "trusted": true,
        "id": "JlEea8rKFfhQ",
        "colab": {
          "base_uri": "https://localhost:8080/"
        },
        "outputId": "79c2daf5-adba-4a3b-f417-55c9f71f605f"
      },
      "execution_count": 38,
      "outputs": [
        {
          "output_type": "execute_result",
          "data": {
            "text/plain": [
              "0.7710925925925926"
            ]
          },
          "metadata": {},
          "execution_count": 38
        }
      ]
    },
    {
      "cell_type": "markdown",
      "source": [
        "# 6. Feature Importance"
      ],
      "metadata": {
        "id": "cmdarAJTFfhQ"
      }
    },
    {
      "cell_type": "code",
      "source": [
        "def plot_importance(model, features, num=len(X), save=False):\n",
        "    feature_imp = pd.DataFrame({'Value': model.feature_importances_, 'Feature': features.columns})\n",
        "    plt.figure(figsize=(10, 10))\n",
        "    sns.set(font_scale=1)\n",
        "    sns.barplot(x=\"Value\", y=\"Feature\", data=feature_imp.sort_values(by=\"Value\",\n",
        "                                                                     ascending=False)[0:num])\n",
        "    plt.title('Features')\n",
        "    plt.tight_layout()\n",
        "    plt.show()\n",
        "    if save:\n",
        "        plt.savefig('importances.png')"
      ],
      "metadata": {
        "execution": {
          "iopub.status.busy": "2021-10-19T18:44:43.354902Z",
          "iopub.execute_input": "2021-10-19T18:44:43.35522Z",
          "iopub.status.idle": "2021-10-19T18:44:43.365145Z",
          "shell.execute_reply.started": "2021-10-19T18:44:43.355178Z",
          "shell.execute_reply": "2021-10-19T18:44:43.364286Z"
        },
        "trusted": true,
        "id": "31i4M5s2FfhQ"
      },
      "execution_count": 39,
      "outputs": []
    },
    {
      "cell_type": "code",
      "source": [
        "plot_importance(cart_final, X, 15)"
      ],
      "metadata": {
        "execution": {
          "iopub.status.busy": "2021-10-19T18:44:43.366652Z",
          "iopub.execute_input": "2021-10-19T18:44:43.367108Z",
          "iopub.status.idle": "2021-10-19T18:44:43.791677Z",
          "shell.execute_reply.started": "2021-10-19T18:44:43.367068Z",
          "shell.execute_reply": "2021-10-19T18:44:43.79067Z"
        },
        "trusted": true,
        "id": "o7zDOe4oFfhR",
        "colab": {
          "base_uri": "https://localhost:8080/",
          "height": 1000
        },
        "outputId": "50e0b28d-ee4a-41cb-d5ad-5be23ef1e795"
      },
      "execution_count": 40,
      "outputs": [
        {
          "output_type": "display_data",
          "data": {
            "text/plain": [
              "<Figure size 1000x1000 with 1 Axes>"
            ],
            "image/png": "[encoded data removed]"
          },
          "metadata": {}
        }
      ]
    },
    {
      "cell_type": "markdown",
      "source": [
        "# 7. Analyzing Model Complexity with Learning Curves"
      ],
      "metadata": {
        "id": "Afa_GgDrFfhS"
      }
    },
    {
      "cell_type": "code",
      "source": [
        "train_score, test_score = validation_curve(\n",
        "    cart_final, X=X, y=y,\n",
        "    param_name='max_depth',\n",
        "    param_range=range(1, 11),\n",
        "    scoring=\"roc_auc\",\n",
        "    cv=10)"
      ],
      "metadata": {
        "execution": {
          "iopub.status.busy": "2021-10-19T18:44:43.792847Z",
          "iopub.execute_input": "2021-10-19T18:44:43.793054Z",
          "iopub.status.idle": "2021-10-19T18:44:44.821068Z",
          "shell.execute_reply.started": "2021-10-19T18:44:43.793028Z",
          "shell.execute_reply": "2021-10-19T18:44:44.820034Z"
        },
        "trusted": true,
        "id": "nQ7u4zPkFfhS"
      },
      "execution_count": 41,
      "outputs": []
    },
    {
      "cell_type": "code",
      "source": [
        "mean_train_score = np.mean(train_score, axis=1)"
      ],
      "metadata": {
        "execution": {
          "iopub.status.busy": "2021-10-19T18:44:44.82268Z",
          "iopub.execute_input": "2021-10-19T18:44:44.822929Z",
          "iopub.status.idle": "2021-10-19T18:44:44.827485Z",
          "shell.execute_reply.started": "2021-10-19T18:44:44.822901Z",
          "shell.execute_reply": "2021-10-19T18:44:44.826688Z"
        },
        "trusted": true,
        "id": "vJDzjbkOFfhS"
      },
      "execution_count": 42,
      "outputs": []
    },
    {
      "cell_type": "code",
      "source": [
        "mean_test_score = np.mean(test_score, axis=1)"
      ],
      "metadata": {
        "execution": {
          "iopub.status.busy": "2021-10-19T18:44:44.829094Z",
          "iopub.execute_input": "2021-10-19T18:44:44.829598Z",
          "iopub.status.idle": "2021-10-19T18:44:44.84017Z",
          "shell.execute_reply.started": "2021-10-19T18:44:44.829552Z",
          "shell.execute_reply": "2021-10-19T18:44:44.839261Z"
        },
        "trusted": true,
        "id": "GfQ_LMEdFfhS"
      },
      "execution_count": 43,
      "outputs": []
    },
    {
      "cell_type": "code",
      "source": [
        "plt.plot(range(1, 11), mean_train_score,\n",
        "         label=\"Training Score\", color='b')\n",
        "plt.plot(range(1, 11), mean_test_score,\n",
        "         label=\"Validation Score\", color='g')\n",
        "\n",
        "plt.title(\"Validation Curve for CART\")\n",
        "plt.xlabel(\"Number of max_depth\")\n",
        "plt.ylabel(\"AUC\")\n",
        "plt.tight_layout()\n",
        "plt.legend(loc='best')\n",
        "plt.show()"
      ],
      "metadata": {
        "execution": {
          "iopub.status.busy": "2021-10-19T18:44:44.841911Z",
          "iopub.execute_input": "2021-10-19T18:44:44.842535Z",
          "iopub.status.idle": "2021-10-19T18:44:45.209268Z",
          "shell.execute_reply.started": "2021-10-19T18:44:44.842496Z",
          "shell.execute_reply": "2021-10-19T18:44:45.208679Z"
        },
        "trusted": true,
        "id": "X3InbwfGFfhS",
        "colab": {
          "base_uri": "https://localhost:8080/",
          "height": 500
        },
        "outputId": "db415dd0-1de0-44f6-9727-1ad10c590d30"
      },
      "execution_count": 44,
      "outputs": [
        {
          "output_type": "display_data",
          "data": {
            "text/plain": [
              "<Figure size 640x480 with 1 Axes>"
            ],
            "image/png": "[encoded data removed]"
          },
          "metadata": {}
        }
      ]
    },
    {
      "cell_type": "markdown",
      "source": [
        "# 8. Extracting Decision Rules"
      ],
      "metadata": {
        "id": "b30WwF4qFfhS"
      }
    },
    {
      "cell_type": "code",
      "source": [
        "tree_rules = export_text(cart_model, feature_names=list(X.columns))\n",
        "print(tree_rules)"
      ],
      "metadata": {
        "execution": {
          "iopub.status.busy": "2021-10-19T18:44:58.832069Z",
          "iopub.status.idle": "2021-10-19T18:44:58.832546Z",
          "shell.execute_reply.started": "2021-10-19T18:44:58.832287Z",
          "shell.execute_reply": "2021-10-19T18:44:58.832313Z"
        },
        "trusted": true,
        "id": "Jqfe-nO8FfhT",
        "colab": {
          "base_uri": "https://localhost:8080/"
        },
        "outputId": "b6679043-ca1f-43c0-c293-02ac878440b9"
      },
      "execution_count": 45,
      "outputs": [
        {
          "output_type": "stream",
          "name": "stdout",
          "text": [
            "|--- Glucose <= 127.50\n",
            "|   |--- Age <= 28.50\n",
            "|   |   |--- BMI <= 45.40\n",
            "|   |   |   |--- BMI <= 30.95\n",
            "|   |   |   |   |--- Pregnancies <= 7.50\n",
            "|   |   |   |   |   |--- class: 0\n",
            "|   |   |   |   |--- Pregnancies >  7.50\n",
            "|   |   |   |   |   |--- class: 1\n",
            "|   |   |   |--- BMI >  30.95\n",
            "|   |   |   |   |--- DiabetesPedigreeFunction <= 0.50\n",
            "|   |   |   |   |   |--- class: 0\n",
            "|   |   |   |   |--- DiabetesPedigreeFunction >  0.50\n",
            "|   |   |   |   |   |--- class: 0\n",
            "|   |   |--- BMI >  45.40\n",
            "|   |   |   |--- BloodPressure <= 99.00\n",
            "|   |   |   |   |--- class: 1\n",
            "|   |   |   |--- BloodPressure >  99.00\n",
            "|   |   |   |   |--- class: 0\n",
            "|   |--- Age >  28.50\n",
            "|   |   |--- BMI <= 26.35\n",
            "|   |   |   |--- BMI <= 9.65\n",
            "|   |   |   |   |--- class: 1\n",
            "|   |   |   |--- BMI >  9.65\n",
            "|   |   |   |   |--- class: 0\n",
            "|   |   |--- BMI >  26.35\n",
            "|   |   |   |--- Glucose <= 99.50\n",
            "|   |   |   |   |--- Glucose <= 28.50\n",
            "|   |   |   |   |   |--- class: 1\n",
            "|   |   |   |   |--- Glucose >  28.50\n",
            "|   |   |   |   |   |--- class: 0\n",
            "|   |   |   |--- Glucose >  99.50\n",
            "|   |   |   |   |--- DiabetesPedigreeFunction <= 0.56\n",
            "|   |   |   |   |   |--- class: 0\n",
            "|   |   |   |   |--- DiabetesPedigreeFunction >  0.56\n",
            "|   |   |   |   |   |--- class: 1\n",
            "|--- Glucose >  127.50\n",
            "|   |--- BMI <= 29.95\n",
            "|   |   |--- Glucose <= 145.50\n",
            "|   |   |   |--- Insulin <= 132.50\n",
            "|   |   |   |   |--- BMI <= 28.15\n",
            "|   |   |   |   |   |--- class: 0\n",
            "|   |   |   |   |--- BMI >  28.15\n",
            "|   |   |   |   |   |--- class: 1\n",
            "|   |   |   |--- Insulin >  132.50\n",
            "|   |   |   |   |--- class: 0\n",
            "|   |   |--- Glucose >  145.50\n",
            "|   |   |   |--- Age <= 25.50\n",
            "|   |   |   |   |--- class: 0\n",
            "|   |   |   |--- Age >  25.50\n",
            "|   |   |   |   |--- Age <= 61.00\n",
            "|   |   |   |   |   |--- class: 1\n",
            "|   |   |   |   |--- Age >  61.00\n",
            "|   |   |   |   |   |--- class: 0\n",
            "|   |--- BMI >  29.95\n",
            "|   |   |--- Glucose <= 157.50\n",
            "|   |   |   |--- Age <= 30.50\n",
            "|   |   |   |   |--- BloodPressure <= 61.00\n",
            "|   |   |   |   |   |--- class: 1\n",
            "|   |   |   |   |--- BloodPressure >  61.00\n",
            "|   |   |   |   |   |--- class: 0\n",
            "|   |   |   |--- Age >  30.50\n",
            "|   |   |   |   |--- DiabetesPedigreeFunction <= 0.43\n",
            "|   |   |   |   |   |--- class: 1\n",
            "|   |   |   |   |--- DiabetesPedigreeFunction >  0.43\n",
            "|   |   |   |   |   |--- class: 1\n",
            "|   |   |--- Glucose >  157.50\n",
            "|   |   |   |--- Insulin <= 629.50\n",
            "|   |   |   |   |--- DiabetesPedigreeFunction <= 0.30\n",
            "|   |   |   |   |   |--- class: 1\n",
            "|   |   |   |   |--- DiabetesPedigreeFunction >  0.30\n",
            "|   |   |   |   |   |--- class: 1\n",
            "|   |   |   |--- Insulin >  629.50\n",
            "|   |   |   |   |--- class: 0\n",
            "\n"
          ]
        }
      ]
    }
  ]
}