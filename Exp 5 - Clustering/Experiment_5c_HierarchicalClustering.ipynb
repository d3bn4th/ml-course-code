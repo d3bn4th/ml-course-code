{
  "cells": [
    {
      "cell_type": "markdown",
      "metadata": {
        "id": "HLWH0Add8Q2M"
      },
      "source": [
        "# ML Experiment 5c: Hierarchical Clustering\n",
        "**Aim : Implement Hierarchical Clustering algorithm to categorize data**"
      ]
    },
    {
      "cell_type": "code",
      "execution_count": null,
      "metadata": {
        "id": "iHJlFEB38Q2P"
      },
      "outputs": [],
      "source": [
        "import numpy as np\n",
        "from sklearn.cluster import AgglomerativeClustering\n",
        "from sklearn.metrics.pairwise import euclidean_distances\n",
        "from scipy.cluster import hierarchy\n",
        "import matplotlib.pyplot as plt\n",
        "from sklearn.datasets import make_classification\n",
        "plt.style.use('ggplot')"
      ]
    },
    {
      "cell_type": "code",
      "execution_count": null,
      "metadata": {
        "id": "Dv6wfkKQ8Q2Q"
      },
      "outputs": [],
      "source": [
        "X,y = make_classification(100, n_features=2, n_redundant=0)"
      ]
    },
    {
      "cell_type": "markdown",
      "metadata": {
        "id": "IjayVhDk8Q2R"
      },
      "source": [
        "# Hierarchical Clustering Implementation\n",
        "I have tried to comment as much as I could, if you still need clarification, comment please. This implementation is not efficient at all. This is what I call \"Visible Implementation\". I should be able to know what a code does just by looking at it and reading comments (not documentation) if it is a visible implementation."
      ]
    },
    {
      "cell_type": "code",
      "execution_count": null,
      "metadata": {
        "id": "pJFIDL298Q2R"
      },
      "outputs": [],
      "source": [
        "class HC:\n",
        "    def __init__(self, verbose=False, linkage_type='complete'):\n",
        "        self.verbose = verbose\n",
        "        self.linkage_type = linkage_type\n",
        "\n",
        "    def argmin(self, D):\n",
        "        \"\"\"\n",
        "        Given a 2D array, returns the minimum value that is not in the main diagonal, i.e where x = y\n",
        "        and (x,y) index of that value.\n",
        "        \"\"\"\n",
        "        minx, miny = (0,0)\n",
        "        min_val = 10e5\n",
        "        for i in range(D.shape[0]):\n",
        "            for j in range(D.shape[0]):\n",
        "                if j==i:\n",
        "                    continue\n",
        "                else:\n",
        "                    if D[i,j] < min_val:\n",
        "                        min_val = D[i,j]\n",
        "                        minx = i\n",
        "                        miny = j\n",
        "\n",
        "        return min_val, minx, miny\n",
        "\n",
        "    def cluster_distance(self, cluster_members):\n",
        "        \"\"\"\n",
        "        Calculates the cluster euclidean distances.\n",
        "\n",
        "        Params\n",
        "        ------\n",
        "        cluster_members: dict.\n",
        "            stores the cluster members in format: {key: [item1, item2 ..]}.\n",
        "            if key is less than X.shape[0] then, it only has itself in the cluster.\n",
        "\n",
        "        Returns\n",
        "        -------\n",
        "        Distance: 2D array.\n",
        "            Contains distances between each cluster.\n",
        "        \"\"\"\n",
        "        nClusters = len(cluster_members)\n",
        "        keys = list(cluster_members.keys())\n",
        "        Distance = np.zeros((nClusters, nClusters))\n",
        "        # iterate over all the clusters\n",
        "        for i in range(nClusters):\n",
        "            # pick the members of ith cluster\n",
        "            ith_elems = cluster_members[keys[i]]\n",
        "\n",
        "            # compare with the other clusters\n",
        "            for j in range(nClusters):\n",
        "                # pick the other cluster's members\n",
        "                jth_elems = cluster_members[keys[j]]\n",
        "                d_in_clusters = euclidean_distances(X[ith_elems], X[jth_elems])\n",
        "                if self.linkage_type == 'complete':\n",
        "                    dij = np.max(d_in_clusters)\n",
        "                elif self.linkage_type == 'single':\n",
        "                    dij = np.min(d_in_clusters)\n",
        "                Distance[i,j] = dij\n",
        "\n",
        "        # so Distance has minimum distance between clusters\n",
        "        # row and col of Distance denotes element in `keys`\n",
        "        return Distance\n",
        "\n",
        "    def fit(self, X):\n",
        "        \"\"\"\n",
        "        Generates the dendrogram.\n",
        "\n",
        "        Params\n",
        "        ------\n",
        "        X: Dataset, shape (nSamples, nFeatures)\n",
        "\n",
        "        Returns\n",
        "        -------\n",
        "        Z: 2D array. shape (nSamples-1, 4).\n",
        "            Linkage matrix. Stores the merge information at each iteration.\n",
        "        \"\"\"\n",
        "        self.nSamples = X.shape[0]\n",
        "\n",
        "        cluster_members = {i: [i,] for i in range(self.nSamples)}\n",
        "        Z = np.zeros((self.nSamples-1,4)) # c1, c2, d, count\n",
        "\n",
        "        for i in range(self.nSamples-1):\n",
        "            if self.verbose:\n",
        "                print(f'\\n-------\\nDebug Line at, i={i}\\n--------')\n",
        "\n",
        "            nClusters = len(cluster_members)\n",
        "            keys = list(cluster_members.keys())\n",
        "            # caculate the distance between existing clusters\n",
        "            D = self.cluster_distance(cluster_members)\n",
        "            _, tmpx, tmpy = self.argmin(D)\n",
        "\n",
        "            if self.verbose:\n",
        "                print(f'Z:\\n{Z}, \\nCluster Members: {cluster_members}, D: \\n {D}')\n",
        "\n",
        "            x = keys[tmpx]\n",
        "            y = keys[tmpy]\n",
        "            # update Z\n",
        "            Z[i,0] = x\n",
        "            Z[i,1] = y\n",
        "            Z[i,2] = D[tmpx, tmpy] # that's where the min value is\n",
        "            Z[i,3] = len(cluster_members[x]) + len(cluster_members[y])\n",
        "\n",
        "            # merge the clusters found\n",
        "            cluster_members[i+ self.nSamples] = cluster_members[x] + cluster_members[y]\n",
        "            # remove merged from clusters pool, else they'll be recalculated\n",
        "            del cluster_members[x]\n",
        "            del cluster_members[y]\n",
        "\n",
        "        self.Z = Z\n",
        "        return self.Z\n",
        "\n",
        "    def predict(self, n_cluster=3):\n",
        "        \"\"\"\n",
        "        Get cluster label for specific cluster size.\n",
        "\n",
        "        Params\n",
        "        ------\n",
        "        n_cluster: int.\n",
        "            Number of clusters to keep. Can not be > nSamples\n",
        "\n",
        "        Returns\n",
        "        -------\n",
        "        labels: list.\n",
        "            Cluster labels for each sample.\n",
        "        \"\"\"\n",
        "        labels = np.zeros((self.nSamples))\n",
        "        cluster_members = dict([(i,[i]) for i in range(self.nSamples)])\n",
        "        for i in range(self.nSamples - n_cluster):\n",
        "            x,y = (Z[i,0], Z[i,1])\n",
        "            cluster_members[self.nSamples + i] = cluster_members[x] + cluster_members[y]\n",
        "            del cluster_members[x]\n",
        "            del cluster_members[y]\n",
        "\n",
        "        keys = list(cluster_members.keys())\n",
        "\n",
        "        for i in range(len(keys)):\n",
        "            samples_in_cluster = cluster_members[keys[i]]\n",
        "            labels[samples_in_cluster] = i\n",
        "\n",
        "        return labels"
      ]
    },
    {
      "cell_type": "code",
      "execution_count": null,
      "metadata": {
        "id": "FFPiqxwy8Q2T"
      },
      "outputs": [],
      "source": [
        "%%time\n",
        "hc = HC(linkage_type='complete')\n",
        "Z = hc.fit(X)\n",
        "myLabel = hc.predict(n_cluster=3)"
      ]
    },
    {
      "cell_type": "markdown",
      "metadata": {
        "id": "lrphjUq28Q2U"
      },
      "source": [
        "sanity check."
      ]
    },
    {
      "cell_type": "code",
      "execution_count": null,
      "metadata": {
        "colab": {
          "background_save": true
        },
        "id": "1A0xuEfA8Q2U",
        "outputId": "23296dba-761b-4323-f421-b82d380a3519"
      },
      "outputs": [
        {
          "name": "stdout",
          "output_type": "stream",
          "text": [
            "CPU times: user 1.34 ms, sys: 1.01 ms, total: 2.35 ms\n",
            "Wall time: 2.37 ms\n"
          ]
        }
      ],
      "source": [
        "%%time\n",
        "clustering = AgglomerativeClustering(n_clusters=3,linkage='complete').fit(X)\n",
        "skLabel = clustering.labels_"
      ]
    },
    {
      "cell_type": "code",
      "execution_count": null,
      "metadata": {
        "id": "kU70y_N48Q2V"
      },
      "outputs": [],
      "source": [
        "fig, ax = plt.subplots(2,2,facecolor='white',figsize=(15,5*2),dpi=120)\n",
        "\n",
        "# Cluster\n",
        "for i in range(3):\n",
        "    myIndices = myLabel==i\n",
        "    skIndices = skLabel==i\n",
        "    ax[0,0].scatter(x=X[myIndices,0], y=X[myIndices,1],label=i)\n",
        "    ax[0,1].scatter(x=X[skIndices,0], y=X[skIndices,1],label=i)\n",
        "\n",
        "ax[0,0].set_title('Custom | Cluster')\n",
        "ax[0,1].set_title('Sklearn | Cluster')\n",
        "ax[0,0].legend()\n",
        "ax[0,1].legend()\n",
        "\n",
        "# Dendrogram\n",
        "z = hierarchy.linkage(X, 'complete') # scipy agglomerative cluster\n",
        "hierarchy.dendrogram(Z, ax=ax[1,0]) # plotting mine with their function\n",
        "hierarchy.dendrogram(z, ax=ax[1,1]) # plotting their with their function\n",
        "\n",
        "ax[1,0].set_title('Custom | Dendrogram')\n",
        "ax[1,1].set_title('Sklearn | Dendrogram')\n",
        "plt.show()"
      ]
    }
  ],
  "metadata": {
    "colab": {
      "provenance": [],
      "toc_visible": true
    },
    "kaggle": {
      "accelerator": "none",
      "dataSources": [],
      "dockerImageVersionId": 29985,
      "isGpuEnabled": false,
      "isInternetEnabled": true,
      "language": "python",
      "sourceType": "notebook"
    },
    "kernelspec": {
      "display_name": "Python 3",
      "language": "python",
      "name": "python3"
    },
    "language_info": {
      "codemirror_mode": {
        "name": "ipython",
        "version": 3
      },
      "file_extension": ".py",
      "mimetype": "text/x-python",
      "name": "python",
      "nbconvert_exporter": "python",
      "pygments_lexer": "ipython3",
      "version": "3.7.6"
    }
  },
  "nbformat": 4,
  "nbformat_minor": 0
}